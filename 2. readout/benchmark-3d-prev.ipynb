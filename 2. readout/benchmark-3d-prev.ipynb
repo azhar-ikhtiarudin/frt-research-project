{
 "cells": [
  {
   "cell_type": "code",
   "execution_count": 1,
   "metadata": {},
   "outputs": [],
   "source": [
    "import numpy as np\n",
    "import matplotlib.pyplot as plt\n",
    "import pandas as pd\n",
    "import sys\n",
    "from scipy.stats import multivariate_normal\n",
    "\n",
    "# Add the parent directory of simpleparameterisation to the sys.path list\n",
    "sys.path.append('../')\n",
    "\n",
    "# Now you can import simpleparameterisation from the new location\n",
    "import TPCevt as TPC\n",
    "\n",
    "det = TPC.Detector(\"Simple TPC with Atmospheric Ar (default values)\")\n"
   ]
  },
  {
   "cell_type": "code",
   "execution_count": 2,
   "metadata": {},
   "outputs": [],
   "source": [
    "# Initial Parameter\n",
    "pitch_x = 0.1\n",
    "pitch_y = 0.1\n",
    "pitch_z = 0.1\n",
    "std = det.PSFstd = 1\n",
    "thresh = 1e-20\n",
    "grid_size = 500\n",
    "rv = multivariate_normal([0,0,0], np.diag([std, std, std]))"
   ]
  },
  {
   "cell_type": "code",
   "execution_count": 3,
   "metadata": {},
   "outputs": [],
   "source": [
    "def gainAndReadout(DriftedEvt, det, nsigma_extend=3, thresh=1e1):\n",
    "    minvals = np.array([DriftedEvt[1].min(),DriftedEvt[2].min(), DriftedEvt[3].min() ])\n",
    "    maxvals = np.array([DriftedEvt[1].max(),DriftedEvt[2].max(), DriftedEvt[3].max() ])\n",
    "    nsigma_extend = 3\n",
    "    PSFmean_extend = nsigma_extend * det.PSFstd + det.PSFmean\n",
    "    x_range = (minvals[0] - PSFmean_extend, maxvals[0] + PSFmean_extend)\n",
    "    y_range = (minvals[1] - PSFmean_extend, maxvals[1] + PSFmean_extend)\n",
    "    dt_range = (minvals[2] - nsigma_extend * det.gain_sigma_t, maxvals[2] + nsigma_extend * det.gain_sigma_t)\n",
    "    # Calculate ReadoutGrid\n",
    "    ReadoutGrid = np.mgrid[\n",
    "                np.floor(x_range[0] / det.pitch_x) * det.pitch_x:\n",
    "                np.ceil(x_range[1] / det.pitch_x) * det.pitch_x:\n",
    "                det.pitch_x,\n",
    "                np.floor(y_range[0] / det.pitch_y) * det.pitch_y:\n",
    "                np.ceil(y_range[1] / det.pitch_y) * det.pitch_y:\n",
    "                det.pitch_y,\n",
    "                np.floor(dt_range[0] / det.samplerate) * det.samplerate:\n",
    "                np.ceil(dt_range[1] / det.samplerate) * det.samplerate:\n",
    "                det.samplerate\n",
    "                ]\n",
    "\n",
    "    pos = np.stack(ReadoutGrid, axis=3)\n",
    "    ReadoutEvt = None\n",
    "    for i in range(len(DriftedEvt[1])):\n",
    "        thisGain = np.random.exponential(scale=det.gain_mean)\n",
    "        rv = multivariate_normal([DriftedEvt[1][i], DriftedEvt[2][i], DriftedEvt[3][i]], np.diag([det.PSFstd, det.PSFstd, det.gain_sigma_t]))\n",
    "        if ReadoutEvt is None:\n",
    "            #The factor pitch_x*pitch_y*sample_rate converts from probability density \n",
    "            #to 'normalised' probability\n",
    "            ReadoutEvt = rv.pdf(pos)*det.pitch_x*det.pitch_y*det.samplerate*thisGain\n",
    "        else:\n",
    "            ReadoutEvt += rv.pdf(pos)*det.pitch_x*det.pitch_y*det.samplerate*thisGain\n",
    "    themask = ReadoutEvt >= thresh\n",
    "    if np.sum(themask) == 0:\n",
    "        print('No channels above threshold!')\n",
    "        return pd.DataFrame(columns=['x', 'y', 'dt', 'Nel'])\n",
    "    try:\n",
    "        return pd.DataFrame({'x': ReadoutGrid[0][themask].flatten(), 'y': ReadoutGrid[1][themask].flatten(), \n",
    "            'dt': ReadoutGrid[2][themask].flatten(), 'Nel': ReadoutEvt[themask]})\n",
    "    except:\n",
    "        print(f'DriftedEvt: {DriftedEvt}')\n",
    "        print(f'themask: {themask}\\nReadoutGrid[0]: {ReadoutGrid[0]}\\nReadoutEvt: {ReadoutEvt}\\nReadoutGrid: {ReadoutGrid}')\n",
    "        print(f'ReadoutGrid.shape: {ReadoutGrid.shape}, ReadoutEvt.shape: {ReadoutEvt.shape}, themask.shape = {themask.shape}')\n",
    "        raise"
   ]
  }
 ],
 "metadata": {
  "kernelspec": {
   "display_name": "frt-development",
   "language": "python",
   "name": "python3"
  },
  "language_info": {
   "codemirror_mode": {
    "name": "ipython",
    "version": 3
   },
   "file_extension": ".py",
   "mimetype": "text/x-python",
   "name": "python",
   "nbconvert_exporter": "python",
   "pygments_lexer": "ipython3",
   "version": "3.11.4"
  },
  "orig_nbformat": 4
 },
 "nbformat": 4,
 "nbformat_minor": 2
}
