{
 "cells": [
  {
   "cell_type": "markdown",
   "metadata": {},
   "source": [
    "# Using the readout emulator code\n",
    "\n",
    "There are some basic attributes to an event, at various levels:\n",
    "\n",
    "**Gas/Detector Info**: The readout emulation code needs the parameters of the gas and detector. *Gas parameters*; z and x/y diffusion coefficients, the mobilities, and the W value. *Detector Parameters*; drift field, total avalanche gain and gain variance (stored as a probability distribution), total avalanche region point spread function (TODO: generalise this to a x/y/t PSF. I could just treat t as uncorrelated and add a Gaussian smear?), the readout pitch and sampling rate. Note that 'total' GEM gain/PSF means if we're using a 3x GEM stack it'll be the 3x convolution of the single GEM gain/PSF. *Future updates*; drift field distortions, the photon light yield (primary and secondary), charge sharing/crosstalk between readout channels, readout digitization/noise.\n",
    "\n",
    "**Simulation**: Everything returned by Geant4. As a minimum this is the energy deposits and their locations in the gas. But it could also include the particle ID, primary particle information, and other things. The primary track data is the thing which is needed by the rest of this code. \n",
    "\n",
    "* Stored as PrimaryEvt(x,y,z,Edep). May also include things like the vertex location.\n",
    "\n",
    "**Charge carrier generation**: Poisson-sample the number of electron-ion pairs using the W value. \n",
    "\n",
    "* PrimaryEvt modified to be PrimaryEvt(x,y,z, Edep, # carriers)\n",
    "\n",
    "**Drift down to the readout plane**: Work out what $\\sigma_{x/y}$ and $\\sigma_{z}$ are, and sample them for every carrier. This makes a new array in memory.\n",
    "\n",
    "* Stored as DriftedEvt(index in PrimaryEvt, x, y, delta_t)\n",
    "\n",
    "**Sample avalanche gain**: For each drifted carrier, 1. use the gain distribution to sample a total number of electrons $N_e$, and 2. multiply the PSF by $N_e$ at that location and add to the output. It would be too slow the sample the PSF $N_e$ times, since $N_e \\sim 10^5$ or so. Then add the locations of the electrons to a histogram with a pitch given by the readout pitch, and with time binned according to the sampling rate. The histogram range should just be enough to cover the extent of the event, perhaps above some noise threshold (since the PSF may have a long tail). Only keep events above some threshold number of $N_e$.\n",
    "\n",
    "* Stored as ReadoutEvt(x,y,dt,Nelectrons) where the x/y/dt co-ordinates are constrained to the readout pitch of the detector.\n",
    "\n",
    "Open questions: \n",
    "* Is there a correlation between the x/y diffusion or PSF and the t diffusion or PSF? How can I best account for this?\n",
    "* How can we implement a more realistic PSF on the readout plane without slowing things down?\n",
    "* How do we handle very finely pitched readouts?\n",
    "* Should we use Xarray instead of pandas (easier to generalise to more dimensions)?\n",
    "* Should we try to distribute the energy deposit along the Geant4 step? (Currently it is placed at the post-step point)."
   ]
  },
  {
   "cell_type": "code",
   "execution_count": 2,
   "metadata": {},
   "outputs": [
    {
     "name": "stdout",
     "output_type": "stream",
     "text": [
      "Using matplotlib backend: <object object at 0x7ff8940b26c0>\n",
      "%pylab is deprecated, use %matplotlib inline and import the required libraries.\n",
      "Populating the interactive namespace from numpy and matplotlib\n"
     ]
    }
   ],
   "source": [
    "%pylab\n",
    "%matplotlib inline\n",
    "import pandas as pd\n",
    "import numpy as np"
   ]
  },
  {
   "cell_type": "code",
   "execution_count": 3,
   "metadata": {},
   "outputs": [],
   "source": [
    "from scipy.stats import truncnorm\n",
    "from matplotlib.colors import LogNorm\n",
    "from scipy.stats import multivariate_normal\n",
    "import matplotlib.pyplot as plt"
   ]
  },
  {
   "cell_type": "code",
   "execution_count": 4,
   "metadata": {},
   "outputs": [
    {
     "name": "stdout",
     "output_type": "stream",
     "text": [
      "Welcome to JupyROOT 6.28/00\n"
     ]
    }
   ],
   "source": [
    "from ROOT import TFile, TTree"
   ]
  },
  {
   "cell_type": "markdown",
   "metadata": {},
   "source": [
    "For now, I'll use pandas dataframes to create the PrimaryEvt and DriftedEvt structures"
   ]
  },
  {
   "cell_type": "markdown",
   "metadata": {},
   "source": [
    "# Base units\n",
    "\n",
    "The default Geant4 units are janky, so I'll avoid those.\n",
    "\n",
    "Instead, I'll use:\n",
    "\n",
    "Length -- cm\n",
    "\n",
    "Energy -- keV\n",
    "\n",
    "time -- seconds\n"
   ]
  },
  {
   "cell_type": "markdown",
   "metadata": {},
   "source": [
    "# Simulation\n",
    "\n",
    "Let's make a straight line energy deposit originating at (5 cm, 5 cm, 5 cm), along a vector pointing 45 degrees between x and y, and 45 degrees inclined towards z. Energy deposits are equally spaced at 1 mm, and decreasing in intensity from 10 keV in 1 keV increments at each deposit."
   ]
  },
  {
   "cell_type": "code",
   "execution_count": 5,
   "metadata": {},
   "outputs": [],
   "source": [
    "vertex = (5,5,5)\n",
    "theta = (np.pi/4)\n",
    "phi = (np.pi/4)\n",
    "Ed_prim = np.arange(10,0,-1)\n",
    "steplen = 0.1\n",
    "x_prim = [vertex[0] + i*steplen*np.sin(theta)*np.cos(phi) for i in range(len(Ed_prim))]\n",
    "y_prim = [vertex[0] + i*steplen*np.sin(theta)*np.sin(phi) for i in range(len(Ed_prim))]\n",
    "z_prim = [vertex[0] + i*steplen*np.cos(theta) for i in range(len(Ed_prim))]"
   ]
  },
  {
   "cell_type": "code",
   "execution_count": 6,
   "metadata": {},
   "outputs": [],
   "source": [
    "PrimaryEvt = pd.DataFrame({'x':x_prim, 'y':y_prim, 'z':z_prim, 'Edep': Ed_prim})"
   ]
  },
  {
   "cell_type": "code",
   "execution_count": 7,
   "metadata": {},
   "outputs": [
    {
     "data": {
      "text/html": [
       "<div>\n",
       "<style scoped>\n",
       "    .dataframe tbody tr th:only-of-type {\n",
       "        vertical-align: middle;\n",
       "    }\n",
       "\n",
       "    .dataframe tbody tr th {\n",
       "        vertical-align: top;\n",
       "    }\n",
       "\n",
       "    .dataframe thead th {\n",
       "        text-align: right;\n",
       "    }\n",
       "</style>\n",
       "<table border=\"1\" class=\"dataframe\">\n",
       "  <thead>\n",
       "    <tr style=\"text-align: right;\">\n",
       "      <th></th>\n",
       "      <th>x</th>\n",
       "      <th>y</th>\n",
       "      <th>z</th>\n",
       "      <th>Edep</th>\n",
       "    </tr>\n",
       "  </thead>\n",
       "  <tbody>\n",
       "    <tr>\n",
       "      <th>0</th>\n",
       "      <td>5.00</td>\n",
       "      <td>5.00</td>\n",
       "      <td>5.000000</td>\n",
       "      <td>10</td>\n",
       "    </tr>\n",
       "    <tr>\n",
       "      <th>1</th>\n",
       "      <td>5.05</td>\n",
       "      <td>5.05</td>\n",
       "      <td>5.070711</td>\n",
       "      <td>9</td>\n",
       "    </tr>\n",
       "    <tr>\n",
       "      <th>2</th>\n",
       "      <td>5.10</td>\n",
       "      <td>5.10</td>\n",
       "      <td>5.141421</td>\n",
       "      <td>8</td>\n",
       "    </tr>\n",
       "    <tr>\n",
       "      <th>3</th>\n",
       "      <td>5.15</td>\n",
       "      <td>5.15</td>\n",
       "      <td>5.212132</td>\n",
       "      <td>7</td>\n",
       "    </tr>\n",
       "    <tr>\n",
       "      <th>4</th>\n",
       "      <td>5.20</td>\n",
       "      <td>5.20</td>\n",
       "      <td>5.282843</td>\n",
       "      <td>6</td>\n",
       "    </tr>\n",
       "    <tr>\n",
       "      <th>5</th>\n",
       "      <td>5.25</td>\n",
       "      <td>5.25</td>\n",
       "      <td>5.353553</td>\n",
       "      <td>5</td>\n",
       "    </tr>\n",
       "    <tr>\n",
       "      <th>6</th>\n",
       "      <td>5.30</td>\n",
       "      <td>5.30</td>\n",
       "      <td>5.424264</td>\n",
       "      <td>4</td>\n",
       "    </tr>\n",
       "    <tr>\n",
       "      <th>7</th>\n",
       "      <td>5.35</td>\n",
       "      <td>5.35</td>\n",
       "      <td>5.494975</td>\n",
       "      <td>3</td>\n",
       "    </tr>\n",
       "    <tr>\n",
       "      <th>8</th>\n",
       "      <td>5.40</td>\n",
       "      <td>5.40</td>\n",
       "      <td>5.565685</td>\n",
       "      <td>2</td>\n",
       "    </tr>\n",
       "    <tr>\n",
       "      <th>9</th>\n",
       "      <td>5.45</td>\n",
       "      <td>5.45</td>\n",
       "      <td>5.636396</td>\n",
       "      <td>1</td>\n",
       "    </tr>\n",
       "  </tbody>\n",
       "</table>\n",
       "</div>"
      ],
      "text/plain": [
       "      x     y         z  Edep\n",
       "0  5.00  5.00  5.000000    10\n",
       "1  5.05  5.05  5.070711     9\n",
       "2  5.10  5.10  5.141421     8\n",
       "3  5.15  5.15  5.212132     7\n",
       "4  5.20  5.20  5.282843     6\n",
       "5  5.25  5.25  5.353553     5\n",
       "6  5.30  5.30  5.424264     4\n",
       "7  5.35  5.35  5.494975     3\n",
       "8  5.40  5.40  5.565685     2\n",
       "9  5.45  5.45  5.636396     1"
      ]
     },
     "execution_count": 7,
     "metadata": {},
     "output_type": "execute_result"
    }
   ],
   "source": [
    "PrimaryEvt"
   ]
  },
  {
   "cell_type": "code",
   "execution_count": 8,
   "metadata": {},
   "outputs": [
    {
     "data": {
      "image/png": "[encoded data removed]",
      "text/plain": [
       "<Figure size 640x480 with 2 Axes>"
      ]
     },
     "metadata": {},
     "output_type": "display_data"
    }
   ],
   "source": [
    "plt.scatter(PrimaryEvt['x'], PrimaryEvt['y'], c=PrimaryEvt['Edep']);\n",
    "plt.xlabel('x (cm)', fontsize=14)\n",
    "plt.ylabel('y (cm)', fontsize=14)\n",
    "cb = plt.colorbar(label='Energy Deposit (keV)')\n",
    "cb.set_label('Energy Deposit (keV)', fontsize=14)\n",
    "# plt.title('X-Y projection')\n",
    "ax = plt.gca()\n",
    "ax.tick_params(labelsize=12)\n",
    "plt.savefig('ReadoutExample_primary.png', dpi=400)"
   ]
  },
  {
   "cell_type": "code",
   "execution_count": 9,
   "metadata": {},
   "outputs": [
    {
     "data": {
      "text/plain": [
       "<matplotlib.colorbar.Colorbar at 0x7ff78daaa890>"
      ]
     },
     "execution_count": 9,
     "metadata": {},
     "output_type": "execute_result"
    },
    {
     "data": {
      "image/png": "[encoded data removed]",
      "text/plain": [
       "<Figure size 640x480 with 2 Axes>"
      ]
     },
     "metadata": {},
     "output_type": "display_data"
    }
   ],
   "source": [
    "plt.scatter(PrimaryEvt['y'], PrimaryEvt['z'], c=PrimaryEvt['Edep']);\n",
    "plt.xlabel('y (cm)')\n",
    "plt.ylabel('z (cm)')\n",
    "plt.colorbar(label='Energy Deposit (keV)')"
   ]
  },
  {
   "cell_type": "markdown",
   "metadata": {},
   "source": [
    "OK, that's fairly trivial. In reality we'll need to make a ROOT file reader or whatever. But for now let's just proceed."
   ]
  },
  {
   "cell_type": "markdown",
   "metadata": {},
   "source": [
    "# Gas/Detector Info\n",
    "\n",
    "Diffusion goes as $\\sigma = \\sqrt{2Dt}$ and mobility is the proportionality constant between the drift velocity and the **E** field.\n",
    "\n",
    "I'll use the values for Ar gas"
   ]
  },
  {
   "cell_type": "code",
   "execution_count": 10,
   "metadata": {},
   "outputs": [],
   "source": [
    "w_value = 26.4/1000 #keV/ion pair, Med Phys 4R06/6R03 Radioisotopes and Radiation Methodology\n",
    "\n",
    "Diffcoeff_xy = 0.04 #cm^2/s, from Sauli's textbook pg 82\n",
    "\n",
    "Diffcoeff_z = 0.04 #cm^2/s, from Sauli's textbook pg 82\n",
    "\n",
    "mobility = 1.7 #cm^2V^-1s^-1 from Sauli's textbook pg 87\n",
    "\n",
    "DriftField = 100 #V/cm\n",
    "\n",
    "pitch_x = 0.1 #cm\n",
    "pitch_y = 0.1 #cm\n",
    "sample_rate = 1e-3#seconds"
   ]
  },
  {
   "cell_type": "markdown",
   "metadata": {},
   "source": [
    "**Gain and gain variance**: According to Sauli (pg 151), the number of electrons in an avalanche is given by a Poisson distribution:\n",
    "\n",
    "$P(n,N) = \\frac{1}{\\bar{n}}(\\frac{n}{\\bar{n}})^{N-1}\\frac{e^{-\\frac{n}{\\bar{n}}}}{(N-1)!}$,\n",
    "\n",
    "where $N$ is the number of primary electrons $n$ is the number of electrons in the avalanche, and $\\bar{n}$ is the mean number of electrons in the avalanche.\n",
    "\n",
    "If we start with 1 electron, this means the gain is exponentially distributed, and the most probable value is 0. If we have 3x GEMs, we'll start with N electrons and need to sample again. Interesting...\n",
    "\n",
    "Also, Peter's simulations (https://darkmatteraustralia.atlassian.net/wiki/spaces/CYG/pages/362708993/15+10+2020) of a single GEM don't show an exponential distribution.\n",
    "\n",
    "For now, I'll just go with an exponentially distributed gain.\n",
    "\n",
    "**GEM PSF PDF**: it's best to use the GarField PDF, but for now I will just use a truncated normal distribution. The code may slow down once I start sampling a (non-optimised) custom histogram."
   ]
  },
  {
   "cell_type": "code",
   "execution_count": 11,
   "metadata": {},
   "outputs": [
    {
     "data": {
      "image/png": "[encoded data removed]",
      "text/plain": [
       "<Figure size 640x480 with 1 Axes>"
      ]
     },
     "metadata": {},
     "output_type": "display_data"
    }
   ],
   "source": [
    "meangain = 10**5\n",
    "xvals = np.logspace(0,6.5,50)\n",
    "yvals = np.exp(-xvals/meangain)/meangain\n",
    "plt.plot(xvals, yvals)\n",
    "plt.xscale('log')\n",
    "plt.yscale('log')\n",
    "poisson_rvs = np.random.exponential(scale=meangain, size=int(1e6))\n",
    "rets = plt.hist(poisson_rvs, histtype='step', bins=xvals, density=True, lw=2);"
   ]
  },
  {
   "cell_type": "code",
   "execution_count": 12,
   "metadata": {},
   "outputs": [],
   "source": [
    "def get_truncated_normal(mean=0, sd=1, low=0, upp=10, nsamp=1):\n",
    "    return truncnorm((low - mean) / sd, (upp - mean) / sd, loc=mean, scale=sd).rvs(size=nsamp)"
   ]
  },
  {
   "cell_type": "code",
   "execution_count": 13,
   "metadata": {},
   "outputs": [
    {
     "data": {
      "image/png": "[encoded data removed]",
      "text/plain": [
       "<Figure size 640x480 with 1 Axes>"
      ]
     },
     "metadata": {},
     "output_type": "display_data"
    }
   ],
   "source": [
    "plt.hist(get_truncated_normal(mean=0.02, sd=0.01, low=0, upp=np.inf, nsamp=int(1e4)), histtype='step', \n",
    "         bins=100, range=(0, 0.1));"
   ]
  },
  {
   "cell_type": "code",
   "execution_count": 14,
   "metadata": {},
   "outputs": [],
   "source": [
    "gain_mean = 10**5\n",
    "#gain_variance will be samples of np.random.exponential(scale=meangain)\n",
    "PSF_mean=0.02 #cm\n",
    "PSF_std=0.01 #cm\n",
    "readout_sigma_t = 10**-8 #seconds"
   ]
  },
  {
   "cell_type": "markdown",
   "metadata": {},
   "source": [
    "# Charge Carrier Generation\n",
    "\n",
    "Need to add a column to the pandas dataframe with the Poisson-sampled NIPs."
   ]
  },
  {
   "cell_type": "code",
   "execution_count": 15,
   "metadata": {},
   "outputs": [],
   "source": [
    "PrimaryEvt['NIP'] = np.random.poisson(PrimaryEvt['Edep']/w_value)"
   ]
  },
  {
   "cell_type": "code",
   "execution_count": 16,
   "metadata": {},
   "outputs": [
    {
     "data": {
      "text/html": [
       "<div>\n",
       "<style scoped>\n",
       "    .dataframe tbody tr th:only-of-type {\n",
       "        vertical-align: middle;\n",
       "    }\n",
       "\n",
       "    .dataframe tbody tr th {\n",
       "        vertical-align: top;\n",
       "    }\n",
       "\n",
       "    .dataframe thead th {\n",
       "        text-align: right;\n",
       "    }\n",
       "</style>\n",
       "<table border=\"1\" class=\"dataframe\">\n",
       "  <thead>\n",
       "    <tr style=\"text-align: right;\">\n",
       "      <th></th>\n",
       "      <th>x</th>\n",
       "      <th>y</th>\n",
       "      <th>z</th>\n",
       "      <th>Edep</th>\n",
       "      <th>NIP</th>\n",
       "    </tr>\n",
       "  </thead>\n",
       "  <tbody>\n",
       "    <tr>\n",
       "      <th>0</th>\n",
       "      <td>5.00</td>\n",
       "      <td>5.00</td>\n",
       "      <td>5.000000</td>\n",
       "      <td>10</td>\n",
       "      <td>397</td>\n",
       "    </tr>\n",
       "    <tr>\n",
       "      <th>1</th>\n",
       "      <td>5.05</td>\n",
       "      <td>5.05</td>\n",
       "      <td>5.070711</td>\n",
       "      <td>9</td>\n",
       "      <td>349</td>\n",
       "    </tr>\n",
       "    <tr>\n",
       "      <th>2</th>\n",
       "      <td>5.10</td>\n",
       "      <td>5.10</td>\n",
       "      <td>5.141421</td>\n",
       "      <td>8</td>\n",
       "      <td>305</td>\n",
       "    </tr>\n",
       "    <tr>\n",
       "      <th>3</th>\n",
       "      <td>5.15</td>\n",
       "      <td>5.15</td>\n",
       "      <td>5.212132</td>\n",
       "      <td>7</td>\n",
       "      <td>260</td>\n",
       "    </tr>\n",
       "    <tr>\n",
       "      <th>4</th>\n",
       "      <td>5.20</td>\n",
       "      <td>5.20</td>\n",
       "      <td>5.282843</td>\n",
       "      <td>6</td>\n",
       "      <td>224</td>\n",
       "    </tr>\n",
       "    <tr>\n",
       "      <th>5</th>\n",
       "      <td>5.25</td>\n",
       "      <td>5.25</td>\n",
       "      <td>5.353553</td>\n",
       "      <td>5</td>\n",
       "      <td>200</td>\n",
       "    </tr>\n",
       "    <tr>\n",
       "      <th>6</th>\n",
       "      <td>5.30</td>\n",
       "      <td>5.30</td>\n",
       "      <td>5.424264</td>\n",
       "      <td>4</td>\n",
       "      <td>157</td>\n",
       "    </tr>\n",
       "    <tr>\n",
       "      <th>7</th>\n",
       "      <td>5.35</td>\n",
       "      <td>5.35</td>\n",
       "      <td>5.494975</td>\n",
       "      <td>3</td>\n",
       "      <td>111</td>\n",
       "    </tr>\n",
       "    <tr>\n",
       "      <th>8</th>\n",
       "      <td>5.40</td>\n",
       "      <td>5.40</td>\n",
       "      <td>5.565685</td>\n",
       "      <td>2</td>\n",
       "      <td>72</td>\n",
       "    </tr>\n",
       "    <tr>\n",
       "      <th>9</th>\n",
       "      <td>5.45</td>\n",
       "      <td>5.45</td>\n",
       "      <td>5.636396</td>\n",
       "      <td>1</td>\n",
       "      <td>34</td>\n",
       "    </tr>\n",
       "  </tbody>\n",
       "</table>\n",
       "</div>"
      ],
      "text/plain": [
       "      x     y         z  Edep  NIP\n",
       "0  5.00  5.00  5.000000    10  397\n",
       "1  5.05  5.05  5.070711     9  349\n",
       "2  5.10  5.10  5.141421     8  305\n",
       "3  5.15  5.15  5.212132     7  260\n",
       "4  5.20  5.20  5.282843     6  224\n",
       "5  5.25  5.25  5.353553     5  200\n",
       "6  5.30  5.30  5.424264     4  157\n",
       "7  5.35  5.35  5.494975     3  111\n",
       "8  5.40  5.40  5.565685     2   72\n",
       "9  5.45  5.45  5.636396     1   34"
      ]
     },
     "execution_count": 16,
     "metadata": {},
     "output_type": "execute_result"
    }
   ],
   "source": [
    "PrimaryEvt"
   ]
  },
  {
   "cell_type": "code",
   "execution_count": 17,
   "metadata": {},
   "outputs": [
    {
     "data": {
      "text/plain": [
       "55"
      ]
     },
     "execution_count": 17,
     "metadata": {},
     "output_type": "execute_result"
    }
   ],
   "source": [
    "PrimaryEvt['Edep'].sum()"
   ]
  },
  {
   "cell_type": "markdown",
   "metadata": {},
   "source": [
    "# Drift to Readout Plane\n",
    "\n",
    "I can probably speed this up if I try.\n",
    "\n",
    "Is there a sql-type trick to play here? Each row in PrimaryEvt will have NIP rows in the DriftedEvt dataframe.\n",
    "\n",
    "Currently it takes about 2 ms to process ~2000 NIPs, which is from a 55 keV primary energy deposit.\n",
    "\n",
    "To process 100 000 simulated events, this would take 100 seconds.\n",
    "\n",
    "Not awful, but not great..."
   ]
  },
  {
   "cell_type": "code",
   "execution_count": 18,
   "metadata": {},
   "outputs": [],
   "source": [
    "def driftvel(E,mu):\n",
    "    #Mobility is the proportionality constant between the E field and the velocity\n",
    "    return mu*E\n",
    "def driftsigma(z, D, E, mu):\n",
    "    #drift sigma = sqrt(2*diffusion*deltaT)\n",
    "    avg_deltat = z/driftvel(E, mu)\n",
    "    return np.sqrt(2*avg_deltat*D)"
   ]
  },
  {
   "cell_type": "code",
   "execution_count": 19,
   "metadata": {},
   "outputs": [
    {
     "data": {
      "text/plain": [
       "2109"
      ]
     },
     "execution_count": 19,
     "metadata": {},
     "output_type": "execute_result"
    }
   ],
   "source": [
    "PrimaryEvt['NIP'].sum()"
   ]
  },
  {
   "cell_type": "code",
   "execution_count": 22,
   "metadata": {},
   "outputs": [
    {
     "name": "stdout",
     "output_type": "stream",
     "text": [
      "10.2 µs ± 288 ns per loop (mean ± std. dev. of 7 runs, 100,000 loops each)\n"
     ]
    }
   ],
   "source": [
    "%%timeit\n",
    "ret = np.random.normal(loc=0, scale=driftsigma(PrimaryEvt['z'][9], Diffcoeff_xy, DriftField, mobility), \n",
    "                        size=(PrimaryEvt['NIP'][9], 2))"
   ]
  },
  {
   "cell_type": "code",
   "execution_count": 21,
   "metadata": {},
   "outputs": [
    {
     "name": "stdout",
     "output_type": "stream",
     "text": [
      "8.85 µs ± 349 ns per loop (mean ± std. dev. of 7 runs, 100,000 loops each)\n"
     ]
    }
   ],
   "source": [
    "%%timeit\n",
    "num_to_drift = PrimaryEvt['NIP'][9]\n",
    "ret = np.random.normal(loc=0, scale=driftsigma(num_to_drift, Diffcoeff_xy, DriftField, mobility), \n",
    "                        size=(num_to_drift, 2))"
   ]
  },
  {
   "cell_type": "code",
   "execution_count": 37,
   "metadata": {},
   "outputs": [
    {
     "name": "stdout",
     "output_type": "stream",
     "text": [
      "17.3 µs ± 632 ns per loop (mean ± std. dev. of 7 runs, 100,000 loops each)\n"
     ]
    }
   ],
   "source": [
    "%%timeit\n",
    "ret = np.random.normal(loc=0, scale=driftsigma(PrimaryEvt['z'][9], Diffcoeff_xy, DriftField, mobility), \n",
    "                        size=(PrimaryEvt['NIP'][9]))\n",
    "ret = np.random.normal(loc=0, scale=driftsigma(PrimaryEvt['z'][9], Diffcoeff_xy, DriftField, mobility), \n",
    "                        size=(PrimaryEvt['NIP'][9]))"
   ]
  },
  {
   "cell_type": "code",
   "execution_count": 25,
   "metadata": {},
   "outputs": [
    {
     "name": "stdout",
     "output_type": "stream",
     "text": [
      "CPU times: user 3 ms, sys: 0 ns, total: 3 ms\n",
      "Wall time: 2.34 ms\n"
     ]
    }
   ],
   "source": [
    "%%time\n",
    "Ndrifted = PrimaryEvt['NIP'].sum()\n",
    "drifteddict = {'idx_Primary': np.empty(Ndrifted, dtype=np.int32), 'x': np.empty(Ndrifted, dtype=np.float32),\n",
    "              'y': np.empty(Ndrifted, dtype=np.float32), 'dt': np.empty(Ndrifted, dtype=np.float32)}\n",
    "counter = 0\n",
    "vd = driftvel(DriftField, mobility)\n",
    "for i in range(len(PrimaryEvt)):\n",
    "    numtodrift = PrimaryEvt['NIP'][i]\n",
    "    #print(numtodrift)\n",
    "    thisz = PrimaryEvt['z'][i]\n",
    "    #print(thisz)\n",
    "    drifteddict['idx_Primary'][counter:(counter+numtodrift)] = i\n",
    "    #print(driftsigma(thisz, Diffcoeff_xy, DriftField, mobility))\n",
    "    drifteddict['x'][counter:(counter+numtodrift)] = PrimaryEvt['x'][i] + np.random.normal(loc=0, \n",
    "                                                            scale=driftsigma(thisz, Diffcoeff_xy, \n",
    "                                                                             DriftField, mobility),\n",
    "                                                            size=numtodrift)\n",
    "    drifteddict['y'][counter:(counter+numtodrift)] = PrimaryEvt['y'][i] + np.random.normal(loc=0, \n",
    "                                                            scale=driftsigma(thisz, Diffcoeff_xy, \n",
    "                                                                             DriftField, mobility),\n",
    "                                                            size=numtodrift)\n",
    "    drifteddict['dt'][counter:(counter+numtodrift)] = (thisz + np.random.normal(loc=0, \n",
    "                                                            scale=driftsigma(thisz, Diffcoeff_z, \n",
    "                                                                             DriftField, mobility),\n",
    "                                                            size=numtodrift))/vd\n",
    "    counter += numtodrift\n",
    "\n",
    "DriftedEvt = pd.DataFrame(drifteddict)"
   ]
  },
  {
   "cell_type": "code",
   "execution_count": 26,
   "metadata": {},
   "outputs": [
    {
     "data": {
      "text/html": [
       "<div>\n",
       "<style scoped>\n",
       "    .dataframe tbody tr th:only-of-type {\n",
       "        vertical-align: middle;\n",
       "    }\n",
       "\n",
       "    .dataframe tbody tr th {\n",
       "        vertical-align: top;\n",
       "    }\n",
       "\n",
       "    .dataframe thead th {\n",
       "        text-align: right;\n",
       "    }\n",
       "</style>\n",
       "<table border=\"1\" class=\"dataframe\">\n",
       "  <thead>\n",
       "    <tr style=\"text-align: right;\">\n",
       "      <th></th>\n",
       "      <th>idx_Primary</th>\n",
       "      <th>x</th>\n",
       "      <th>y</th>\n",
       "      <th>dt</th>\n",
       "    </tr>\n",
       "  </thead>\n",
       "  <tbody>\n",
       "    <tr>\n",
       "      <th>0</th>\n",
       "      <td>0</td>\n",
       "      <td>5.100634</td>\n",
       "      <td>5.021656</td>\n",
       "      <td>0.029513</td>\n",
       "    </tr>\n",
       "    <tr>\n",
       "      <th>1</th>\n",
       "      <td>0</td>\n",
       "      <td>5.068022</td>\n",
       "      <td>4.949405</td>\n",
       "      <td>0.029250</td>\n",
       "    </tr>\n",
       "    <tr>\n",
       "      <th>2</th>\n",
       "      <td>0</td>\n",
       "      <td>5.061503</td>\n",
       "      <td>4.983319</td>\n",
       "      <td>0.029339</td>\n",
       "    </tr>\n",
       "    <tr>\n",
       "      <th>3</th>\n",
       "      <td>0</td>\n",
       "      <td>4.957842</td>\n",
       "      <td>5.000828</td>\n",
       "      <td>0.029423</td>\n",
       "    </tr>\n",
       "    <tr>\n",
       "      <th>4</th>\n",
       "      <td>0</td>\n",
       "      <td>4.969149</td>\n",
       "      <td>4.990558</td>\n",
       "      <td>0.028993</td>\n",
       "    </tr>\n",
       "    <tr>\n",
       "      <th>...</th>\n",
       "      <td>...</td>\n",
       "      <td>...</td>\n",
       "      <td>...</td>\n",
       "      <td>...</td>\n",
       "    </tr>\n",
       "    <tr>\n",
       "      <th>2104</th>\n",
       "      <td>9</td>\n",
       "      <td>5.538059</td>\n",
       "      <td>5.435692</td>\n",
       "      <td>0.032614</td>\n",
       "    </tr>\n",
       "    <tr>\n",
       "      <th>2105</th>\n",
       "      <td>9</td>\n",
       "      <td>5.395759</td>\n",
       "      <td>5.424811</td>\n",
       "      <td>0.032516</td>\n",
       "    </tr>\n",
       "    <tr>\n",
       "      <th>2106</th>\n",
       "      <td>9</td>\n",
       "      <td>5.508862</td>\n",
       "      <td>5.454083</td>\n",
       "      <td>0.033370</td>\n",
       "    </tr>\n",
       "    <tr>\n",
       "      <th>2107</th>\n",
       "      <td>9</td>\n",
       "      <td>5.442463</td>\n",
       "      <td>5.374358</td>\n",
       "      <td>0.033482</td>\n",
       "    </tr>\n",
       "    <tr>\n",
       "      <th>2108</th>\n",
       "      <td>9</td>\n",
       "      <td>5.510696</td>\n",
       "      <td>5.407558</td>\n",
       "      <td>0.033607</td>\n",
       "    </tr>\n",
       "  </tbody>\n",
       "</table>\n",
       "<p>2109 rows × 4 columns</p>\n",
       "</div>"
      ],
      "text/plain": [
       "      idx_Primary         x         y        dt\n",
       "0               0  5.100634  5.021656  0.029513\n",
       "1               0  5.068022  4.949405  0.029250\n",
       "2               0  5.061503  4.983319  0.029339\n",
       "3               0  4.957842  5.000828  0.029423\n",
       "4               0  4.969149  4.990558  0.028993\n",
       "...           ...       ...       ...       ...\n",
       "2104            9  5.538059  5.435692  0.032614\n",
       "2105            9  5.395759  5.424811  0.032516\n",
       "2106            9  5.508862  5.454083  0.033370\n",
       "2107            9  5.442463  5.374358  0.033482\n",
       "2108            9  5.510696  5.407558  0.033607\n",
       "\n",
       "[2109 rows x 4 columns]"
      ]
     },
     "execution_count": 26,
     "metadata": {},
     "output_type": "execute_result"
    }
   ],
   "source": [
    "DriftedEvt"
   ]
  },
  {
   "cell_type": "code",
   "execution_count": 27,
   "metadata": {},
   "outputs": [
    {
     "data": {
      "image/png": "[encoded data removed]",
      "text/plain": [
       "<Figure size 640x480 with 2 Axes>"
      ]
     },
     "metadata": {},
     "output_type": "display_data"
    }
   ],
   "source": [
    "plt.hist2d(DriftedEvt['x'], DriftedEvt['y'], range=((4.8,5.7),(4.8, 5.7)), bins=(50,50));\n",
    "plt.xlabel('x (cm)', fontsize=14)\n",
    "plt.ylabel('y (cm)', fontsize=14)\n",
    "cb = plt.colorbar(label='# carriers')\n",
    "cb.set_label('# Carriers', fontsize=14)\n",
    "# plt.title('X-Y projection')\n",
    "ax = plt.gca()\n",
    "ax.tick_params(labelsize=12)\n",
    "plt.savefig('ReadoutExample_drifted.png', dpi=400)"
   ]
  },
  {
   "cell_type": "code",
   "execution_count": null,
   "metadata": {},
   "outputs": [
    {
     "data": {
      "text/plain": [
       "<matplotlib.colorbar.Colorbar at 0x7f3f7019a198>"
      ]
     },
     "execution_count": 24,
     "metadata": {},
     "output_type": "execute_result"
    },
    {
     "data": {
      "image/png": "[encoded data removed]",
      "text/plain": [
       "<Figure size 432x288 with 2 Axes>"
      ]
     },
     "metadata": {
      "needs_background": "light"
     },
     "output_type": "display_data"
    }
   ],
   "source": [
    "plt.hist2d(DriftedEvt['y'], DriftedEvt['dt'], range=((4.8,5.7),(0.028, 0.035)), bins=(50,50));\n",
    "plt.xlabel('y (cm)')\n",
    "plt.ylabel('dt (sec)')\n",
    "plt.colorbar(label='# carriers')"
   ]
  },
  {
   "cell_type": "markdown",
   "metadata": {},
   "source": [
    "Nice!"
   ]
  },
  {
   "attachments": {},
   "cell_type": "markdown",
   "metadata": {},
   "source": [
    "# Sample Avalanche Gain\n",
    "\n",
    "For each drifted carrier,  1. use the gain distribution to sample a total number of electrons $𝑁_𝑒$, and 2. ~~sample the point spread function $𝑁_𝑒$ times~~ Multiply the PSF by 𝑁𝑒 at that location. It would be too slow the sample the PSF $𝑁_𝑒$ times, since $𝑁_𝑒 \\sim 10^5$ or so. Then add the locations of the electrons to a histogram with a pitch given by the readout pitch, and with time binned according to the sampling rate. The histogram range should just be enough to cover the extent of the event, perhaps above some noise threshold (since the PSF may have a long tail).\n",
    "\n",
    "* Stored as a 3D array made using numpy.histogramdd, where the bin edges are determined by the readout pitch.\n"
   ]
  },
  {
   "cell_type": "code",
   "execution_count": null,
   "metadata": {},
   "outputs": [],
   "source": [
    "minvals = DriftedEvt.min()\n",
    "maxvals = DriftedEvt.max()\n",
    "#prepare a 3D histogram of x/y/z\n",
    "#NOTE THAT THIS IS NON-STANDARD AS IT USES BIN CENTRES RATHER THAN BIN EDGES!!\n",
    "readout_x = np.arange(np.floor((minvals['x']-PSF_mean -5*PSF_std)/pitch_x)*pitch_x, \n",
    "                    np.ceil((maxvals['x']+PSF_mean+5*PSF_std)/pitch_x)*pitch_x, pitch_x)\n",
    "readout_y = np.arange(np.floor((minvals['y']-PSF_mean -5*PSF_std)/pitch_y)*pitch_y, \n",
    "                    np.ceil((maxvals['y']+PSF_mean+5*PSF_std)/pitch_y)*pitch_y, pitch_y)\n",
    "readout_dt = np.arange(np.floor((minvals['dt']-5*readout_sigma_t)/sample_rate)*sample_rate, \n",
    "                    np.ceil((maxvals['dt']+5*readout_sigma_t)/sample_rate)*sample_rate, sample_rate)"
   ]
  },
  {
   "cell_type": "code",
   "execution_count": null,
   "metadata": {},
   "outputs": [],
   "source": [
    "# Make a meshgrid.\n",
    "nsigma_extend = 5\n",
    "ReadoutGrid = np.mgrid[np.floor((minvals['x']-PSF_mean -nsigma_extend*PSF_std)/pitch_x)*pitch_x:\n",
    "        np.ceil((maxvals['x']+PSF_mean+nsigma_extend*PSF_std)/pitch_x)*pitch_x:\n",
    "        pitch_x, \n",
    "        np.floor((minvals['y']-PSF_mean -nsigma_extend*PSF_std)/pitch_y)*pitch_y:\n",
    "        np.ceil((maxvals['y']+PSF_mean+nsigma_extend*PSF_std)/pitch_y)*pitch_y:\n",
    "        pitch_y, \n",
    "        np.floor((minvals['dt']-nsigma_extend*readout_sigma_t)/sample_rate)*sample_rate:\n",
    "        np.ceil((maxvals['dt']+nsigma_extend*readout_sigma_t)/sample_rate)*sample_rate:\n",
    "        sample_rate]"
   ]
  },
  {
   "cell_type": "code",
   "execution_count": null,
   "metadata": {},
   "outputs": [
    {
     "data": {
      "text/plain": [
       "(3, 10, 10, 7)"
      ]
     },
     "execution_count": 27,
     "metadata": {},
     "output_type": "execute_result"
    }
   ],
   "source": [
    "ReadoutGrid.shape"
   ]
  },
  {
   "cell_type": "code",
   "execution_count": null,
   "metadata": {},
   "outputs": [],
   "source": [
    "pos = np.stack(ReadoutGrid, axis=3)\n",
    "ReadoutEvt = None\n",
    "for i in range(len(DriftedEvt)):\n",
    "    #print(DriftedEvt.iloc[i])\n",
    "    thisGain = np.random.exponential(scale=meangain)\n",
    "    rv = multivariate_normal([DriftedEvt.iloc[i]['x'], DriftedEvt.iloc[i]['y'], DriftedEvt.iloc[i]['dt']], \n",
    "                            np.diag([PSF_std, PSF_std,readout_sigma_t]))#[[2.0, 0.3], [0.3, 0.5]])\n",
    "    if ReadoutEvt is None:\n",
    "        #The factor pitch_x*pitch_y*sample_rate converts from probability density to 'normalised' probability\n",
    "        ReadoutEvt = rv.pdf(pos)*pitch_x*pitch_y*sample_rate*thisGain\n",
    "    else:\n",
    "        ReadoutEvt += rv.pdf(pos)*pitch_x*pitch_y*sample_rate*thisGain"
   ]
  },
  {
   "cell_type": "code",
   "execution_count": null,
   "metadata": {},
   "outputs": [
    {
     "data": {
      "text/plain": [
       "(10, 10, 7)"
      ]
     },
     "execution_count": 29,
     "metadata": {},
     "output_type": "execute_result"
    }
   ],
   "source": [
    "ReadoutEvt.shape"
   ]
  },
  {
   "cell_type": "code",
   "execution_count": null,
   "metadata": {},
   "outputs": [
    {
     "data": {
      "text/plain": [
       "(3, 10, 10, 7)"
      ]
     },
     "execution_count": 30,
     "metadata": {},
     "output_type": "execute_result"
    }
   ],
   "source": [
    "ReadoutGrid.shape"
   ]
  },
  {
   "cell_type": "code",
   "execution_count": null,
   "metadata": {},
   "outputs": [
    {
     "data": {
      "image/png": "[encoded data removed]",
      "text/plain": [
       "<Figure size 432x288 with 2 Axes>"
      ]
     },
     "metadata": {
      "needs_background": "light"
     },
     "output_type": "display_data"
    }
   ],
   "source": [
    "fig = plt.figure()\n",
    "# ax = fig.add_subplot(111)\n",
    "plt.contourf(ReadoutGrid[0][:,:,0],ReadoutGrid[1][:,:,0], np.sum(ReadoutEvt, axis=2))\n",
    "#ax.plot([0.5],[-0.2],'x')\n",
    "plt.xlabel('x (cm)', fontsize=14)\n",
    "plt.ylabel('y (cm)', fontsize=14)\n",
    "cb = plt.colorbar(label='# Electrons')\n",
    "cb.set_label('# Electrons', fontsize=14)\n",
    "# plt.title('X-Y projection')\n",
    "ax = plt.gca()\n",
    "ax.tick_params(labelsize=12)\n",
    "plt.savefig('ReadoutExample_amplified.png', dpi=400)"
   ]
  },
  {
   "cell_type": "code",
   "execution_count": null,
   "metadata": {},
   "outputs": [
    {
     "data": {
      "text/plain": [
       "<matplotlib.colorbar.Colorbar at 0x7f46d0338128>"
      ]
     },
     "execution_count": 33,
     "metadata": {},
     "output_type": "execute_result"
    },
    {
     "data": {
      "image/png": "[encoded data removed]",
      "text/plain": [
       "<Figure size 432x288 with 2 Axes>"
      ]
     },
     "metadata": {
      "needs_background": "light"
     },
     "output_type": "display_data"
    }
   ],
   "source": [
    "fig = plt.figure()\n",
    "# ax = fig.add_subplot(111)\n",
    "plt.contourf(ReadoutGrid[1][0,:,:],ReadoutGrid[2][0,:,:], np.sum(ReadoutEvt, axis=0))\n",
    "#ax.plot([0.5],[-0.2],'x')\n",
    "plt.xlabel('y (cm)')\n",
    "plt.ylabel('dt (sec)')\n",
    "plt.colorbar(label='# Electrons')\n",
    "# plt.title('Y-dT projection')"
   ]
  },
  {
   "cell_type": "code",
   "execution_count": null,
   "metadata": {},
   "outputs": [
    {
     "data": {
      "text/plain": [
       "Text(0.5, 1.0, 'X-dT projection')"
      ]
     },
     "execution_count": 34,
     "metadata": {},
     "output_type": "execute_result"
    },
    {
     "data": {
      "image/png": "[encoded data removed]",
      "text/plain": [
       "<Figure size 432x288 with 1 Axes>"
      ]
     },
     "metadata": {
      "needs_background": "light"
     },
     "output_type": "display_data"
    }
   ],
   "source": [
    "fig = plt.figure()\n",
    "ax = fig.add_subplot(111)\n",
    "ax.contourf(ReadoutGrid[0][:,0,:],ReadoutGrid[2][:,0,:], np.sum(ReadoutEvt, axis=1))\n",
    "#ax.plot([0.5],[-0.2],'x')\n",
    "plt.title('X-dT projection')"
   ]
  },
  {
   "cell_type": "code",
   "execution_count": null,
   "metadata": {},
   "outputs": [
    {
     "data": {
      "text/plain": [
       "9416812.069172405"
      ]
     },
     "execution_count": 35,
     "metadata": {},
     "output_type": "execute_result"
    }
   ],
   "source": [
    "np.max(ReadoutEvt)"
   ]
  },
  {
   "cell_type": "code",
   "execution_count": null,
   "metadata": {},
   "outputs": [
    {
     "data": {
      "text/plain": [
       "9.513316497187088e-23"
      ]
     },
     "execution_count": 36,
     "metadata": {},
     "output_type": "execute_result"
    }
   ],
   "source": [
    "np.min(ReadoutEvt)"
   ]
  },
  {
   "cell_type": "code",
   "execution_count": null,
   "metadata": {},
   "outputs": [
    {
     "name": "stdout",
     "output_type": "stream",
     "text": [
      "Warning: Cannot change to a different GUI toolkit: widget. Using qt instead.\n"
     ]
    }
   ],
   "source": [
    "# This is necessary to set up 3D rotatable plots\n",
    "%matplotlib widget"
   ]
  },
  {
   "cell_type": "code",
   "execution_count": null,
   "metadata": {},
   "outputs": [],
   "source": [
    "fig = plt.figure(figsize=(20,20))\n",
    "ax = plt.axes(projection=\"3d\")\n",
    "\n",
    "themask = ReadoutEvt>1e4\n",
    "sc = ax.scatter(ReadoutGrid[0][themask], ReadoutGrid[1][themask], ReadoutGrid[2][themask], \n",
    "           c=ReadoutEvt[themask], s=((ReadoutEvt[themask]/np.max(ReadoutEvt))**0.5)*1000, alpha=0.5, lw=0)#, marker='.')\n",
    "cb = plt.colorbar(sc, shrink=0.5, drawedges=False, spacing='proportional', label='Number of Electrons')\n",
    "# for line in cb.lines: \n",
    "#    line.set_linewidth(100)\n",
    "cb.solids.set_linewidth(3)\n",
    "plt.show()"
   ]
  },
  {
   "cell_type": "code",
   "execution_count": null,
   "metadata": {},
   "outputs": [],
   "source": [
    "ReadoutDF = pd.DataFrame({'x': ReadoutGrid[0][themask], 'y': ReadoutGrid[1][themask], \n",
    "                          'dt': ReadoutGrid[2][themask], 'Nel':ReadoutEvt[themask]})"
   ]
  },
  {
   "cell_type": "code",
   "execution_count": null,
   "metadata": {},
   "outputs": [],
   "source": [
    "fig = plt.figure(figsize=(20,20))\n",
    "ax = plt.axes(projection=\"3d\")\n",
    "\n",
    "themask = ReadoutEvt>1e4\n",
    "sc = ax.scatter(ReadoutDF['x'], ReadoutDF['y'], ReadoutDF['dt'], \n",
    "           c=ReadoutDF['Nel'], s=((ReadoutDF['Nel']/np.max(ReadoutDF['Nel']))**0.5)*1000, alpha=0.5, lw=0)#, marker='.')\n",
    "cb = plt.colorbar(sc, shrink=0.5, drawedges=False, spacing='proportional', label='Number of Electrons')\n",
    "# for line in cb.lines: \n",
    "#    line.set_linewidth(100)\n",
    "cb.solids.set_linewidth(3)\n",
    "plt.show()"
   ]
  },
  {
   "cell_type": "code",
   "execution_count": null,
   "metadata": {},
   "outputs": [],
   "source": [
    "%matplotlib inline"
   ]
  },
  {
   "cell_type": "markdown",
   "metadata": {},
   "source": [
    "If I just plot a scatter plot of the dataframe, it is wrong because I'm not accumulating over the dt axis:"
   ]
  },
  {
   "cell_type": "code",
   "execution_count": null,
   "metadata": {},
   "outputs": [
    {
     "data": {
      "text/plain": [
       "Text(0.5, 1.0, 'X-dT projection')"
      ]
     },
     "execution_count": 43,
     "metadata": {},
     "output_type": "execute_result"
    },
    {
     "data": {
      "image/png": "[encoded data removed]",
      "text/plain": [
       "<Figure size 432x288 with 1 Axes>"
      ]
     },
     "metadata": {
      "needs_background": "light"
     },
     "output_type": "display_data"
    }
   ],
   "source": [
    "fig = plt.figure()\n",
    "ax = fig.add_subplot(111)\n",
    "ax.scatter(ReadoutDF.x,ReadoutDF.y, c=ReadoutDF.Nel, s=((ReadoutDF['Nel']/np.max(ReadoutDF['Nel']))**0.5)*1000)\n",
    "#ax.scatter(ret[:,0],ret[0,:], c=np.sum(ReadoutEvt[themask], axis=1))\n",
    "#ax.plot([0.5],[-0.2],'x')\n",
    "plt.title('X-dT projection')"
   ]
  },
  {
   "cell_type": "markdown",
   "metadata": {},
   "source": [
    "After *much* dicking around with pandas, it turns out the way to do this is using groupby:"
   ]
  },
  {
   "cell_type": "code",
   "execution_count": null,
   "metadata": {},
   "outputs": [
    {
     "data": {
      "text/plain": [
       "<matplotlib.collections.PathCollection at 0x7f46bc02af98>"
      ]
     },
     "execution_count": 44,
     "metadata": {},
     "output_type": "execute_result"
    },
    {
     "data": {
      "image/png": "[encoded data removed]",
      "text/plain": [
       "<Figure size 432x288 with 1 Axes>"
      ]
     },
     "metadata": {
      "needs_background": "light"
     },
     "output_type": "display_data"
    }
   ],
   "source": [
    "projectxy = pd.DataFrame(ReadoutDF.groupby(['x','y'])['Nel'].sum()).reset_index()\n",
    "plt.scatter(projectxy.x,projectxy.y, c=projectxy.Nel, s=((projectxy.Nel/np.max(projectxy.Nel))**0.5)*1000)"
   ]
  },
  {
   "cell_type": "code",
   "execution_count": null,
   "metadata": {},
   "outputs": [
    {
     "data": {
      "text/plain": [
       "<matplotlib.collections.PathCollection at 0x7f46b6e9b6d8>"
      ]
     },
     "execution_count": 45,
     "metadata": {},
     "output_type": "execute_result"
    },
    {
     "data": {
      "image/png": "[encoded data removed]",
      "text/plain": [
       "<Figure size 432x288 with 1 Axes>"
      ]
     },
     "metadata": {
      "needs_background": "light"
     },
     "output_type": "display_data"
    }
   ],
   "source": [
    "projectxdt = pd.DataFrame(ReadoutDF.groupby(['x','dt'])['Nel'].sum()).reset_index()\n",
    "plt.scatter(projectxdt.x,projectxdt.dt, c=projectxdt.Nel, s=((projectxdt.Nel/np.max(projectxdt.Nel))**0.5)*1000)"
   ]
  },
  {
   "cell_type": "code",
   "execution_count": null,
   "metadata": {},
   "outputs": [
    {
     "data": {
      "text/plain": [
       "<matplotlib.collections.PathCollection at 0x7f46b6dfe1d0>"
      ]
     },
     "execution_count": 46,
     "metadata": {},
     "output_type": "execute_result"
    },
    {
     "data": {
      "image/png": "[encoded data removed]",
      "text/plain": [
       "<Figure size 432x288 with 1 Axes>"
      ]
     },
     "metadata": {
      "needs_background": "light"
     },
     "output_type": "display_data"
    }
   ],
   "source": [
    "projectydt = pd.DataFrame(ReadoutDF.groupby(['y','dt'])['Nel'].sum()).reset_index()\n",
    "plt.scatter(projectydt.y,projectydt.dt, c=projectydt.Nel, s=((projectydt.Nel/np.max(projectydt.Nel))**0.5)*1000)"
   ]
  },
  {
   "cell_type": "markdown",
   "metadata": {},
   "source": [
    "Other useful code from mucking around with pandas...\n",
    "\n",
    "Selecting a subset of columns is done using loc:"
   ]
  },
  {
   "cell_type": "code",
   "execution_count": null,
   "metadata": {},
   "outputs": [
    {
     "data": {
      "text/html": [
       "<div>\n",
       "<style scoped>\n",
       "    .dataframe tbody tr th:only-of-type {\n",
       "        vertical-align: middle;\n",
       "    }\n",
       "\n",
       "    .dataframe tbody tr th {\n",
       "        vertical-align: top;\n",
       "    }\n",
       "\n",
       "    .dataframe thead th {\n",
       "        text-align: right;\n",
       "    }\n",
       "</style>\n",
       "<table border=\"1\" class=\"dataframe\">\n",
       "  <thead>\n",
       "    <tr style=\"text-align: right;\">\n",
       "      <th></th>\n",
       "      <th>x</th>\n",
       "      <th>y</th>\n",
       "    </tr>\n",
       "  </thead>\n",
       "  <tbody>\n",
       "    <tr>\n",
       "      <th>0</th>\n",
       "      <td>4.7</td>\n",
       "      <td>4.8</td>\n",
       "    </tr>\n",
       "    <tr>\n",
       "      <th>1</th>\n",
       "      <td>4.7</td>\n",
       "      <td>4.9</td>\n",
       "    </tr>\n",
       "    <tr>\n",
       "      <th>2</th>\n",
       "      <td>4.7</td>\n",
       "      <td>4.9</td>\n",
       "    </tr>\n",
       "    <tr>\n",
       "      <th>3</th>\n",
       "      <td>4.7</td>\n",
       "      <td>5.0</td>\n",
       "    </tr>\n",
       "    <tr>\n",
       "      <th>4</th>\n",
       "      <td>4.7</td>\n",
       "      <td>5.0</td>\n",
       "    </tr>\n",
       "    <tr>\n",
       "      <th>...</th>\n",
       "      <td>...</td>\n",
       "      <td>...</td>\n",
       "    </tr>\n",
       "    <tr>\n",
       "      <th>240</th>\n",
       "      <td>5.6</td>\n",
       "      <td>5.4</td>\n",
       "    </tr>\n",
       "    <tr>\n",
       "      <th>241</th>\n",
       "      <td>5.6</td>\n",
       "      <td>5.4</td>\n",
       "    </tr>\n",
       "    <tr>\n",
       "      <th>242</th>\n",
       "      <td>5.6</td>\n",
       "      <td>5.5</td>\n",
       "    </tr>\n",
       "    <tr>\n",
       "      <th>243</th>\n",
       "      <td>5.6</td>\n",
       "      <td>5.5</td>\n",
       "    </tr>\n",
       "    <tr>\n",
       "      <th>244</th>\n",
       "      <td>5.6</td>\n",
       "      <td>5.6</td>\n",
       "    </tr>\n",
       "  </tbody>\n",
       "</table>\n",
       "<p>245 rows × 2 columns</p>\n",
       "</div>"
      ],
      "text/plain": [
       "       x    y\n",
       "0    4.7  4.8\n",
       "1    4.7  4.9\n",
       "2    4.7  4.9\n",
       "3    4.7  5.0\n",
       "4    4.7  5.0\n",
       "..   ...  ...\n",
       "240  5.6  5.4\n",
       "241  5.6  5.4\n",
       "242  5.6  5.5\n",
       "243  5.6  5.5\n",
       "244  5.6  5.6\n",
       "\n",
       "[245 rows x 2 columns]"
      ]
     },
     "execution_count": 157,
     "metadata": {},
     "output_type": "execute_result"
    }
   ],
   "source": [
    "ReadoutDF.loc[:, ['x', 'y']]"
   ]
  },
  {
   "cell_type": "markdown",
   "metadata": {},
   "source": [
    "Instead of unique() use drop_duplicates():"
   ]
  },
  {
   "cell_type": "code",
   "execution_count": null,
   "metadata": {},
   "outputs": [
    {
     "data": {
      "text/html": [
       "<div>\n",
       "<style scoped>\n",
       "    .dataframe tbody tr th:only-of-type {\n",
       "        vertical-align: middle;\n",
       "    }\n",
       "\n",
       "    .dataframe tbody tr th {\n",
       "        vertical-align: top;\n",
       "    }\n",
       "\n",
       "    .dataframe thead th {\n",
       "        text-align: right;\n",
       "    }\n",
       "</style>\n",
       "<table border=\"1\" class=\"dataframe\">\n",
       "  <thead>\n",
       "    <tr style=\"text-align: right;\">\n",
       "      <th></th>\n",
       "      <th>x</th>\n",
       "      <th>y</th>\n",
       "    </tr>\n",
       "  </thead>\n",
       "  <tbody>\n",
       "    <tr>\n",
       "      <th>0</th>\n",
       "      <td>4.7</td>\n",
       "      <td>4.8</td>\n",
       "    </tr>\n",
       "    <tr>\n",
       "      <th>1</th>\n",
       "      <td>4.7</td>\n",
       "      <td>4.9</td>\n",
       "    </tr>\n",
       "    <tr>\n",
       "      <th>3</th>\n",
       "      <td>4.7</td>\n",
       "      <td>5.0</td>\n",
       "    </tr>\n",
       "    <tr>\n",
       "      <th>5</th>\n",
       "      <td>4.7</td>\n",
       "      <td>5.1</td>\n",
       "    </tr>\n",
       "    <tr>\n",
       "      <th>7</th>\n",
       "      <td>4.7</td>\n",
       "      <td>5.2</td>\n",
       "    </tr>\n",
       "    <tr>\n",
       "      <th>...</th>\n",
       "      <td>...</td>\n",
       "      <td>...</td>\n",
       "    </tr>\n",
       "    <tr>\n",
       "      <th>236</th>\n",
       "      <td>5.6</td>\n",
       "      <td>5.2</td>\n",
       "    </tr>\n",
       "    <tr>\n",
       "      <th>238</th>\n",
       "      <td>5.6</td>\n",
       "      <td>5.3</td>\n",
       "    </tr>\n",
       "    <tr>\n",
       "      <th>240</th>\n",
       "      <td>5.6</td>\n",
       "      <td>5.4</td>\n",
       "    </tr>\n",
       "    <tr>\n",
       "      <th>242</th>\n",
       "      <td>5.6</td>\n",
       "      <td>5.5</td>\n",
       "    </tr>\n",
       "    <tr>\n",
       "      <th>244</th>\n",
       "      <td>5.6</td>\n",
       "      <td>5.6</td>\n",
       "    </tr>\n",
       "  </tbody>\n",
       "</table>\n",
       "<p>79 rows × 2 columns</p>\n",
       "</div>"
      ],
      "text/plain": [
       "       x    y\n",
       "0    4.7  4.8\n",
       "1    4.7  4.9\n",
       "3    4.7  5.0\n",
       "5    4.7  5.1\n",
       "7    4.7  5.2\n",
       "..   ...  ...\n",
       "236  5.6  5.2\n",
       "238  5.6  5.3\n",
       "240  5.6  5.4\n",
       "242  5.6  5.5\n",
       "244  5.6  5.6\n",
       "\n",
       "[79 rows x 2 columns]"
      ]
     },
     "execution_count": 158,
     "metadata": {},
     "output_type": "execute_result"
    }
   ],
   "source": [
    "ReadoutDF.loc[:, ['x', 'y']].drop_duplicates()"
   ]
  },
  {
   "cell_type": "markdown",
   "metadata": {},
   "source": [
    "Aggregate might be useful in the future for getting the barycentre of the track:"
   ]
  },
  {
   "cell_type": "code",
   "execution_count": null,
   "metadata": {},
   "outputs": [
    {
     "name": "stdout",
     "output_type": "stream",
     "text": [
      "x           5.177922\n",
      "y           5.183983\n",
      "dt          0.030905\n",
      "Nel    932215.446250\n",
      "dtype: float64\n"
     ]
    }
   ],
   "source": [
    "print(ReadoutDF.aggregate(np.mean, axis=0))"
   ]
  },
  {
   "cell_type": "markdown",
   "metadata": {},
   "source": [
    "OK, that looks really cool!\n",
    "\n",
    "Currently, I'm limited in the readout step -- doing this avalanche gain step requires making a grid over which the readout happens, and 3D grid can be pretty memory intensive if it's over many readout channels."
   ]
  },
  {
   "cell_type": "markdown",
   "metadata": {},
   "source": [
    "# ROOT File Reader\n",
    "\n",
    "I'll just start with Ferdos' format and generalise from there..."
   ]
  },
  {
   "cell_type": "code",
   "execution_count": 43,
   "metadata": {},
   "outputs": [],
   "source": [
    "f = TFile.Open(\"simOut_28796KShell.root\")"
   ]
  },
  {
   "cell_type": "code",
   "execution_count": 44,
   "metadata": {},
   "outputs": [
    {
     "name": "stdout",
     "output_type": "stream",
     "text": [
      "TFile**\t\tsimOut_28796KShell.root\t\n",
      " TFile*\t\tsimOut_28796KShell.root\t\n",
      "  KEY: TTree\tdata;15\ttree [current cycle]\n",
      "  KEY: TTree\tdata;14\ttree [backup cycle]\n",
      "  KEY: TTree\tgamma_info;1\ttree for storing the information of the gamma rays created in the concrete wall straight from the beam\n",
      "  KEY: TH1D\tNumInts;1\tNumber of Interactions per event\n",
      "  KEY: TH1D\tNumCorrs;1\tNumber of Correlated Interactions per event\n",
      "  KEY: TH1D\tMinApproach;1\tMinimum possible approach distance between each event generated in the scintillant\n",
      "  KEY: TH1D\tIntDist;1\tDistances between interactions\n"
     ]
    }
   ],
   "source": [
    "f.ls()"
   ]
  },
  {
   "cell_type": "code",
   "execution_count": 45,
   "metadata": {},
   "outputs": [
    {
     "name": "stdout",
     "output_type": "stream",
     "text": [
      "******************************************************************************\n",
      "*Tree    :data      : tree                                                   *\n",
      "*Entries :  1000000 : Total =       585971731 bytes  File  Size =  429697765 *\n",
      "*        :          : Tree compression factor =   1.36                       *\n",
      "******************************************************************************\n",
      "*Br    0 :edep      : vector<double>                                         *\n",
      "*Entries :  1000000 : Total  Size=   92898799 bytes  File Size  =   70424031 *\n",
      "*Baskets :      226 : Basket Size=    7056896 bytes  Compression=   1.32     *\n",
      "*............................................................................*\n",
      "*Br    1 :x         : vector<double>                                         *\n",
      "*Entries :  1000000 : Total  Size=   92898109 bytes  File Size  =   75730988 *\n",
      "*Baskets :      226 : Basket Size=    7055872 bytes  Compression=   1.23     *\n",
      "*............................................................................*\n",
      "*Br    2 :y         : vector<double>                                         *\n",
      "*Entries :  1000000 : Total  Size=   92898109 bytes  File Size  =   75737748 *\n",
      "*Baskets :      226 : Basket Size=    7055872 bytes  Compression=   1.23     *\n",
      "*............................................................................*\n",
      "*Br    3 :z         : vector<double>                                         *\n",
      "*Entries :  1000000 : Total  Size=   92898109 bytes  File Size  =   75698763 *\n",
      "*Baskets :      226 : Basket Size=    7055872 bytes  Compression=   1.23     *\n",
      "*............................................................................*\n",
      "*Br    4 :PID       : vector<int>                                            *\n",
      "*Entries :  1000000 : Total  Size=   53452081 bytes  File Size  =    4387644 *\n",
      "*Baskets :      140 : Basket Size=    4298240 bytes  Compression=  12.18     *\n",
      "*............................................................................*\n",
      "*Br    5 :t         : vector<double>                                         *\n",
      "*Entries :  1000000 : Total  Size=   92898109 bytes  File Size  =   81582701 *\n",
      "*Baskets :      226 : Basket Size=    7055872 bytes  Compression=   1.14     *\n",
      "*............................................................................*\n",
      "*Br    6 :x0        : x0/D                                                   *\n",
      "*Entries :  1000000 : Total  Size=    8003149 bytes  File Size  =    7651873 *\n",
      "*Baskets :       32 : Basket Size=     560128 bytes  Compression=   1.05     *\n",
      "*............................................................................*\n",
      "*Br    7 :y0        : y0/D                                                   *\n",
      "*Entries :  1000000 : Total  Size=    8003149 bytes  File Size  =    7651421 *\n",
      "*Baskets :       32 : Basket Size=     560128 bytes  Compression=   1.05     *\n",
      "*............................................................................*\n",
      "*Br    8 :z0        : z0/D                                                   *\n",
      "*Entries :  1000000 : Total  Size=    8003149 bytes  File Size  =    7651403 *\n",
      "*Baskets :       32 : Basket Size=     560128 bytes  Compression=   1.05     *\n",
      "*............................................................................*\n",
      "*Br    9 :px0       : px0/D                                                  *\n",
      "*Entries :  1000000 : Total  Size=    8003185 bytes  File Size  =    7689201 *\n",
      "*Baskets :       32 : Basket Size=     560128 bytes  Compression=   1.04     *\n",
      "*............................................................................*\n",
      "*Br   10 :py0       : py0/D                                                  *\n",
      "*Entries :  1000000 : Total  Size=    8003185 bytes  File Size  =    7689119 *\n",
      "*Baskets :       32 : Basket Size=     560128 bytes  Compression=   1.04     *\n",
      "*............................................................................*\n",
      "*Br   11 :pz0       : pz0/D                                                  *\n",
      "*Entries :  1000000 : Total  Size=    8003185 bytes  File Size  =    7683021 *\n",
      "*Baskets :       32 : Basket Size=     560128 bytes  Compression=   1.04     *\n",
      "*............................................................................*\n",
      "*Br   12 :E0        : E0/D                                                   *\n",
      "*Entries :  1000000 : Total  Size=    8003149 bytes  File Size  =      46407 *\n",
      "*Baskets :       32 : Basket Size=     560128 bytes  Compression= 172.44     *\n",
      "*............................................................................*\n",
      "*Br   13 :t0        : t0/D                                                   *\n",
      "*Entries :  1000000 : Total  Size=    8003149 bytes  File Size  =      38146 *\n",
      "*Baskets :       32 : Basket Size=     560128 bytes  Compression= 209.78     *\n",
      "*............................................................................*\n",
      "*Br   14 :PID0      : PID0/I                                                 *\n",
      "*Entries :  1000000 : Total  Size=    4002394 bytes  File Size  =      21863 *\n",
      "*Baskets :       23 : Basket Size=     280064 bytes  Compression= 183.03     *\n",
      "*............................................................................*\n"
     ]
    }
   ],
   "source": [
    "f.data.Print()"
   ]
  },
  {
   "cell_type": "code",
   "execution_count": null,
   "metadata": {},
   "outputs": [],
   "source": [
    "for evt in f.data:\n",
    "    #     print(np.array(evt.x))\n",
    "    PrimaryEvt = pd.DataFrame({'x': np.asarray(evt.x), 'y': np.asarray(evt.y), 'z': np.asarray(evt.z), \n",
    "                               'Edep': np.asarray(evt.edep)})\n",
    "    break"
   ]
  },
  {
   "cell_type": "code",
   "execution_count": null,
   "metadata": {},
   "outputs": [
    {
     "data": {
      "text/html": [
       "<div>\n",
       "<style scoped>\n",
       "    .dataframe tbody tr th:only-of-type {\n",
       "        vertical-align: middle;\n",
       "    }\n",
       "\n",
       "    .dataframe tbody tr th {\n",
       "        vertical-align: top;\n",
       "    }\n",
       "\n",
       "    .dataframe thead th {\n",
       "        text-align: right;\n",
       "    }\n",
       "</style>\n",
       "<table border=\"1\" class=\"dataframe\">\n",
       "  <thead>\n",
       "    <tr style=\"text-align: right;\">\n",
       "      <th></th>\n",
       "      <th>x</th>\n",
       "      <th>y</th>\n",
       "      <th>z</th>\n",
       "      <th>Edep</th>\n",
       "    </tr>\n",
       "  </thead>\n",
       "  <tbody>\n",
       "    <tr>\n",
       "      <th>0</th>\n",
       "      <td>-138.117056</td>\n",
       "      <td>34.845512</td>\n",
       "      <td>80.823438</td>\n",
       "      <td>0.000073</td>\n",
       "    </tr>\n",
       "    <tr>\n",
       "      <th>1</th>\n",
       "      <td>-138.117056</td>\n",
       "      <td>34.845512</td>\n",
       "      <td>73.164423</td>\n",
       "      <td>0.000038</td>\n",
       "    </tr>\n",
       "    <tr>\n",
       "      <th>2</th>\n",
       "      <td>-138.116612</td>\n",
       "      <td>34.846037</td>\n",
       "      <td>73.164081</td>\n",
       "      <td>0.000183</td>\n",
       "    </tr>\n",
       "    <tr>\n",
       "      <th>3</th>\n",
       "      <td>-138.117056</td>\n",
       "      <td>34.845512</td>\n",
       "      <td>73.164423</td>\n",
       "      <td>0.000069</td>\n",
       "    </tr>\n",
       "    <tr>\n",
       "      <th>4</th>\n",
       "      <td>-138.117245</td>\n",
       "      <td>34.845358</td>\n",
       "      <td>73.165208</td>\n",
       "      <td>0.000149</td>\n",
       "    </tr>\n",
       "    <tr>\n",
       "      <th>5</th>\n",
       "      <td>-138.117056</td>\n",
       "      <td>34.845512</td>\n",
       "      <td>73.164423</td>\n",
       "      <td>0.000049</td>\n",
       "    </tr>\n",
       "    <tr>\n",
       "      <th>6</th>\n",
       "      <td>-138.117056</td>\n",
       "      <td>34.845512</td>\n",
       "      <td>73.164423</td>\n",
       "      <td>0.000076</td>\n",
       "    </tr>\n",
       "    <tr>\n",
       "      <th>7</th>\n",
       "      <td>-138.131471</td>\n",
       "      <td>34.835705</td>\n",
       "      <td>73.172743</td>\n",
       "      <td>0.000600</td>\n",
       "    </tr>\n",
       "    <tr>\n",
       "      <th>8</th>\n",
       "      <td>-138.169468</td>\n",
       "      <td>34.820097</td>\n",
       "      <td>73.188191</td>\n",
       "      <td>0.000123</td>\n",
       "    </tr>\n",
       "    <tr>\n",
       "      <th>9</th>\n",
       "      <td>-138.152171</td>\n",
       "      <td>34.803286</td>\n",
       "      <td>73.177365</td>\n",
       "      <td>0.001038</td>\n",
       "    </tr>\n",
       "    <tr>\n",
       "      <th>10</th>\n",
       "      <td>-138.141760</td>\n",
       "      <td>34.784910</td>\n",
       "      <td>73.165699</td>\n",
       "      <td>0.000562</td>\n",
       "    </tr>\n",
       "    <tr>\n",
       "      <th>11</th>\n",
       "      <td>-138.132260</td>\n",
       "      <td>34.834786</td>\n",
       "      <td>73.172736</td>\n",
       "      <td>0.000106</td>\n",
       "    </tr>\n",
       "    <tr>\n",
       "      <th>12</th>\n",
       "      <td>-138.133284</td>\n",
       "      <td>34.832925</td>\n",
       "      <td>73.172356</td>\n",
       "      <td>0.000112</td>\n",
       "    </tr>\n",
       "    <tr>\n",
       "      <th>13</th>\n",
       "      <td>-138.117056</td>\n",
       "      <td>34.845512</td>\n",
       "      <td>73.164423</td>\n",
       "      <td>0.000013</td>\n",
       "    </tr>\n",
       "  </tbody>\n",
       "</table>\n",
       "</div>"
      ],
      "text/plain": [
       "             x          y          z      Edep\n",
       "0  -138.117056  34.845512  80.823438  0.000073\n",
       "1  -138.117056  34.845512  73.164423  0.000038\n",
       "2  -138.116612  34.846037  73.164081  0.000183\n",
       "3  -138.117056  34.845512  73.164423  0.000069\n",
       "4  -138.117245  34.845358  73.165208  0.000149\n",
       "5  -138.117056  34.845512  73.164423  0.000049\n",
       "6  -138.117056  34.845512  73.164423  0.000076\n",
       "7  -138.131471  34.835705  73.172743  0.000600\n",
       "8  -138.169468  34.820097  73.188191  0.000123\n",
       "9  -138.152171  34.803286  73.177365  0.001038\n",
       "10 -138.141760  34.784910  73.165699  0.000562\n",
       "11 -138.132260  34.834786  73.172736  0.000106\n",
       "12 -138.133284  34.832925  73.172356  0.000112\n",
       "13 -138.117056  34.845512  73.164423  0.000013"
      ]
     },
     "execution_count": 98,
     "metadata": {},
     "output_type": "execute_result"
    }
   ],
   "source": [
    "PrimaryEvt"
   ]
  },
  {
   "cell_type": "code",
   "execution_count": null,
   "metadata": {},
   "outputs": [
    {
     "name": "stdout",
     "output_type": "stream",
     "text": [
      "4.68 µs ± 70.2 ns per loop (mean ± std. dev. of 7 runs, 100000 loops each)\n"
     ]
    }
   ],
   "source": [
    "%timeit ret =np.asarray(evt.x) "
   ]
  },
  {
   "cell_type": "code",
   "execution_count": null,
   "metadata": {},
   "outputs": [
    {
     "data": {
      "text/plain": [
       "-138.11705600727214"
      ]
     },
     "execution_count": 89,
     "metadata": {},
     "output_type": "execute_result"
    }
   ],
   "source": [
    "evt.x[0]"
   ]
  },
  {
   "cell_type": "code",
   "execution_count": null,
   "metadata": {},
   "outputs": [],
   "source": [
    "thearr = np.asarray(evt.x)"
   ]
  },
  {
   "cell_type": "code",
   "execution_count": null,
   "metadata": {},
   "outputs": [
    {
     "data": {
      "text/plain": [
       "array([-138.11705601, -138.11705601, -138.1166118 , -138.11705601,\n",
       "       -138.11724465, -138.11705601, -138.11705601, -138.13147098,\n",
       "       -138.1694678 , -138.15217128, -138.14176018, -138.13226029,\n",
       "       -138.1332843 , -138.11705601])"
      ]
     },
     "execution_count": 96,
     "metadata": {},
     "output_type": "execute_result"
    }
   ],
   "source": [
    "thearr"
   ]
  },
  {
   "cell_type": "code",
   "execution_count": null,
   "metadata": {},
   "outputs": [],
   "source": [
    "evt.x[0] = -138.112"
   ]
  },
  {
   "cell_type": "code",
   "execution_count": null,
   "metadata": {},
   "outputs": [
    {
     "data": {
      "text/plain": [
       "array([-138.112     , -138.11705601, -138.1166118 , -138.11705601,\n",
       "       -138.11724465, -138.11705601, -138.11705601, -138.13147098,\n",
       "       -138.1694678 , -138.15217128, -138.14176018, -138.13226029,\n",
       "       -138.1332843 , -138.11705601])"
      ]
     },
     "execution_count": 93,
     "metadata": {},
     "output_type": "execute_result"
    }
   ],
   "source": [
    "thearr"
   ]
  },
  {
   "cell_type": "code",
   "execution_count": null,
   "metadata": {},
   "outputs": [
    {
     "name": "stdout",
     "output_type": "stream",
     "text": [
      "2.89 µs ± 51.2 ns per loop (mean ± std. dev. of 7 runs, 100000 loops each)\n"
     ]
    }
   ],
   "source": [
    "%timeit ret = list(evt.x)"
   ]
  },
  {
   "cell_type": "markdown",
   "metadata": {},
   "source": [
    "# To Do\n",
    "\n",
    "This is a solid start. Here's a list of things that I should work on next to develop the code"
   ]
  },
  {
   "cell_type": "markdown",
   "metadata": {},
   "source": [
    "1. Write a library to allow the code to be called externally. I might be able to encapsulate things within a class, but maybe I don't want to do that to give the person calling the code more flexibility? This needs to be a priority, since running externally will allow studies to start (and it'll be clear whether the code needs to be sped up).\n",
    "\n",
    "2. Investigate whether there is/how to implement correlation between the X-Y and dT smearing. It's probably the case and I can imagine it leads to image artefacts.\n",
    "\n",
    "3. Implement a more realistic 'PSF' on last step.\n",
    "\n",
    "4. I could investigate using a 'sparse histogram' for the last step, to speed things up?\n",
    "\n",
    "5. Future physics updates: drift field distortions, the photon light yield (primary and secondary), charge sharing/crosstalk between readout channels, readout digitization/noise.\n",
    "\n",
    "6. Future speed/convenience updates: special case of 2D projective readout (can entirely skip 3rd dimension and speed things up), more detailed readout for detailed view of certain events, automatic warnings if arrays will be too big, investigate whether PrimaryEvt and DriftedEvt can be combined using a pivot table (I'm not sure if that's the right term)."
   ]
  }
 ],
 "metadata": {
  "kernelspec": {
   "display_name": "Python 3",
   "language": "python",
   "name": "python3"
  },
  "language_info": {
   "codemirror_mode": {
    "name": "ipython",
    "version": 3
   },
   "file_extension": ".py",
   "mimetype": "text/x-python",
   "name": "python",
   "nbconvert_exporter": "python",
   "pygments_lexer": "ipython3",
   "version": "3.11.4"
  },
  "latex_envs": {
   "LaTeX_envs_menu_present": true,
   "autoclose": false,
   "autocomplete": true,
   "bibliofile": "library.bib",
   "cite_by": "apalike",
   "current_citInitial": 1,
   "eqLabelWithNumbers": true,
   "eqNumInitial": 1,
   "hotkeys": {
    "equation": "Ctrl-E",
    "itemize": "Ctrl-I"
   },
   "labels_anchors": false,
   "latex_user_defs": false,
   "report_style_numbering": false,
   "user_envs_cfg": false
  },
  "toc": {
   "base_numbering": 1,
   "nav_menu": {},
   "number_sections": true,
   "sideBar": true,
   "skip_h1_title": false,
   "title_cell": "Table of Contents",
   "title_sidebar": "Contents",
   "toc_cell": false,
   "toc_position": {
    "height": "calc(100% - 180px)",
    "left": "10px",
    "top": "150px",
    "width": "371.2px"
   },
   "toc_section_display": true,
   "toc_window_display": true
  }
 },
 "nbformat": 4,
 "nbformat_minor": 4
}
