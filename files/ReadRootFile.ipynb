{
 "cells": [
  {
   "cell_type": "markdown",
   "metadata": {},
   "source": [
    "First, let's open with pyroot. It should be sufficient to just import TFile"
   ]
  },
  {
   "cell_type": "code",
   "execution_count": 2,
   "metadata": {},
   "outputs": [
    {
     "name": "stdout",
     "output_type": "stream",
     "text": [
      "Using matplotlib backend: TkAgg\n",
      "%pylab is deprecated, use %matplotlib inline and import the required libraries.\n",
      "Populating the interactive namespace from numpy and matplotlib\n"
     ]
    }
   ],
   "source": [
    "%pylab \n",
    "from ROOT import TFile\n",
    "# import root_numpy\n",
    "%matplotlib inline"
   ]
  },
  {
   "cell_type": "code",
   "execution_count": 3,
   "metadata": {},
   "outputs": [],
   "source": [
    "simdata = TFile('output_ArCO2_1KeV_10e.root')"
   ]
  },
  {
   "cell_type": "markdown",
   "metadata": {},
   "source": [
    "ls() prints info on stuff in the root file object I just made"
   ]
  },
  {
   "cell_type": "code",
   "execution_count": 4,
   "metadata": {},
   "outputs": [
    {
     "name": "stdout",
     "output_type": "stream",
     "text": [
      "TFile**\t\toutput_ArCO2_1KeV_10e.root\t\n",
      " TFile*\t\toutput_ArCO2_1KeV_10e.root\t\n",
      "  KEY: TTree\tdata;1\ttree\n",
      "  KEY: TH1D\tNumInts;1\tNumber of Interactions per event\n",
      "  KEY: TH1D\tNumCorrs;1\tNumber of Correlated Interactions per event\n",
      "  KEY: TH1D\tMinApproach;1\tMinimum possible approach distance between each event generated in the scintillant\n",
      "  KEY: TH1D\tIntDist;1\tDistances between interactions\n"
     ]
    }
   ],
   "source": [
    "simdata.ls()"
   ]
  },
  {
   "cell_type": "markdown",
   "metadata": {},
   "source": [
    "I can access the data tree as an attribute of the root file object. The tree has a Print() method which is handy for summarising what is in the tree:"
   ]
  },
  {
   "cell_type": "code",
   "execution_count": 5,
   "metadata": {},
   "outputs": [
    {
     "name": "stdout",
     "output_type": "stream",
     "text": [
      "******************************************************************************\n",
      "*Tree    :data      : tree                                                   *\n",
      "*Entries :       10 : Total =            8951 bytes  File  Size =       3623 *\n",
      "*        :          : Tree compression factor =   1.16                       *\n",
      "******************************************************************************\n",
      "*Br    0 :edep      : vector<double>                                         *\n",
      "*Entries :       10 : Total  Size=        992 bytes  File Size  =        468 *\n",
      "*Baskets :        1 : Basket Size=      32000 bytes  Compression=   1.08     *\n",
      "*............................................................................*\n",
      "*Br    1 :x         : vector<double>                                         *\n",
      "*Entries :       10 : Total  Size=        977 bytes  File Size  =        456 *\n",
      "*Baskets :        1 : Basket Size=      32000 bytes  Compression=   1.11     *\n",
      "*............................................................................*\n",
      "*Br    2 :y         : vector<double>                                         *\n",
      "*Entries :       10 : Total  Size=        977 bytes  File Size  =        454 *\n",
      "*Baskets :        1 : Basket Size=      32000 bytes  Compression=   1.11     *\n",
      "*............................................................................*\n",
      "*Br    3 :z         : vector<double>                                         *\n",
      "*Entries :       10 : Total  Size=        977 bytes  File Size  =        456 *\n",
      "*Baskets :        1 : Basket Size=      32000 bytes  Compression=   1.11     *\n",
      "*............................................................................*\n",
      "*Br    4 :x0        : x0/D                                                   *\n",
      "*Entries :       10 : Total  Size=        630 bytes  File Size  =         90 *\n",
      "*Baskets :        1 : Basket Size=      32000 bytes  Compression=   1.66     *\n",
      "*............................................................................*\n",
      "*Br    5 :y0        : y0/D                                                   *\n",
      "*Entries :       10 : Total  Size=        630 bytes  File Size  =         90 *\n",
      "*Baskets :        1 : Basket Size=      32000 bytes  Compression=   1.66     *\n",
      "*............................................................................*\n",
      "*Br    6 :z0        : z0/D                                                   *\n",
      "*Entries :       10 : Total  Size=        630 bytes  File Size  =         90 *\n",
      "*Baskets :        1 : Basket Size=      32000 bytes  Compression=   1.66     *\n",
      "*............................................................................*\n",
      "*Br    7 :px0       : px0/D                                                  *\n",
      "*Entries :       10 : Total  Size=        635 bytes  File Size  =        150 *\n",
      "*Baskets :        1 : Basket Size=      32000 bytes  Compression=   1.00     *\n",
      "*............................................................................*\n",
      "*Br    8 :py0       : py0/D                                                  *\n",
      "*Entries :       10 : Total  Size=        635 bytes  File Size  =        150 *\n",
      "*Baskets :        1 : Basket Size=      32000 bytes  Compression=   1.00     *\n",
      "*............................................................................*\n",
      "*Br    9 :pz0       : pz0/D                                                  *\n",
      "*Entries :       10 : Total  Size=        635 bytes  File Size  =        150 *\n",
      "*Baskets :        1 : Basket Size=      32000 bytes  Compression=   1.00     *\n",
      "*............................................................................*\n",
      "*Br   10 :E0        : E0/D                                                   *\n",
      "*Entries :       10 : Total  Size=        630 bytes  File Size  =         97 *\n",
      "*Baskets :        1 : Basket Size=      32000 bytes  Compression=   1.54     *\n",
      "*............................................................................*\n"
     ]
    }
   ],
   "source": [
    "simdata.data.Print()"
   ]
  },
  {
   "cell_type": "markdown",
   "metadata": {},
   "source": [
    "One approach is to just convert this to a numpy array directly. You may need to install the root_numpy library. But there's apparently a way to do this in pyroot now, which I haven't used yet (I sent an email or something on Slack a while back explaining the options)."
   ]
  },
  {
   "cell_type": "code",
   "execution_count": 6,
   "metadata": {},
   "outputs": [],
   "source": [
    "trackarr = root_numpy.tree2array(simdata.data)"
   ]
  },
  {
   "cell_type": "code",
   "execution_count": 7,
   "metadata": {},
   "outputs": [
    {
     "data": {
      "text/plain": [
       "array([(array([7.64866455e-07, 1.43816754e-04, 1.18393481e-04, 2.70224796e-04,\n",
       "       1.26098632e-04, 3.40701470e-04]), array([ 0.00000000e+00,  4.16906571e-05,  3.41920251e-03, -8.16743006e-03,\n",
       "       -4.01341421e-03, -7.10488618e-03]), array([0.00000000e+00, 2.54091114e-05, 1.04637266e-02, 1.12585257e-02,\n",
       "       9.72191672e-03, 1.08075692e-02]), array([ 0.00000000e+00, -4.66183792e-05, -8.96804413e-03, -7.58186872e-03,\n",
       "        1.07739479e-03, -3.27734807e-03]), 0., 0., 0.,  0.61758805,  0.37640001, -0.69058528, 0.001),\n",
       "       (array([0.00079694, 0.00020306]), array([-0.00142848, -0.00671178]), array([0.00426842, 0.01625018]), array([-0.00215016, -0.00752178]), 0., 0., 0., -0.06686276,  0.84160208, -0.53594339, 0.001),\n",
       "       (array([0.00071743, 0.00028257]), array([0.00365261, 0.00849978]), array([-0.00277604, -0.01294323]), array([-0.0015902 , -0.01016126]), 0., 0., 0.,  0.83510668, -0.4999983 , -0.22934369, 0.001),\n",
       "       (array([4.94357309e-05, 3.83797018e-04, 3.10158122e-04, 2.29133637e-05,\n",
       "       2.33695765e-04]), array([-0.00371225, -0.01138869, -0.01885798, -0.02558109, -0.02481121]), array([-0.00020693, -0.00140141,  0.00937992,  0.00982123,  0.00755108]), array([-0.00325927, -0.0150904 , -0.01733761, -0.01552135, -0.01437249]), 0., 0., 0., -0.84173608, -0.01689717, -0.53962474, 0.001),\n",
       "       (array([0.0001819 , 0.00021623, 0.00060187]), array([0.00108367, 0.00386351, 0.01384177]), array([-0.00256275, -0.00958021, -0.00755205]), array([-0.00420475, -0.01617796, -0.01183148]), 0., 0., 0.,  0.31339637, -0.57049415, -0.75915686, 0.001),\n",
       "       (array([5.54028495e-05, 4.68733990e-04, 1.29881894e-04, 3.45981266e-04]), array([0.00369876, 0.01050048, 0.0047451 , 0.00848706]), array([0.00110546, 0.01351553, 0.01371993, 0.01770224]), array([ 0.00254604,  0.00278429, -0.00909905, -0.01024966]), 0., 0., 0.,  0.7877968 ,  0.07381394,  0.61149629, 0.001),\n",
       "       (array([6.91754730e-05, 1.75281674e-04, 1.61492882e-04, 4.43930454e-04,\n",
       "       1.50119517e-04]), array([0.        , 0.00360019, 0.01284556, 0.01373391, 0.01017502]), array([0.        , 0.00348854, 0.01244717, 0.02024075, 0.02670076]), array([0.        , 0.00061668, 0.00220032, 0.00845401, 0.00775175]), 0., 0., 0.,  0.71278268,  0.69067667,  0.12209254, 0.001),\n",
       "       (array([0.001]), array([0.00380511]), array([0.00273576]), array([0.0018837]), 0., 0., 0.,  0.75335361,  0.54163807,  0.37294309, 0.001),\n",
       "       (array([0.00053858, 0.00019326, 0.00015699, 0.00011117]), array([-0.01273928, -0.01548745, -0.01785594, -0.01628188]), array([0.0028267 , 0.01385083, 0.0155135 , 0.01354486]), array([0.01405293, 0.02249367, 0.01796977, 0.01676796]), 0., 0., 0., -0.67183464,  0.04650456,  0.73923985, 0.001),\n",
       "       (array([0.00015101, 0.00051218, 0.00023174, 0.00010507]), array([ 0.        , -0.00491466, -0.01619044, -0.01810716]), array([ 0.        ,  0.00052523,  0.00173027, -0.00097936]), array([ 0.        , -0.00104013, -0.00342651, -0.00193384]), 0., 0., 0., -0.97302615,  0.10398698, -0.20592916, 0.001)],\n",
       "      dtype=[('edep', 'O'), ('x', 'O'), ('y', 'O'), ('z', 'O'), ('x0', '<f8'), ('y0', '<f8'), ('z0', '<f8'), ('px0', '<f8'), ('py0', '<f8'), ('pz0', '<f8'), ('E0', '<f8')])"
      ]
     },
     "execution_count": 7,
     "metadata": {},
     "output_type": "execute_result"
    }
   ],
   "source": [
    "trackarr"
   ]
  },
  {
   "cell_type": "markdown",
   "metadata": {},
   "source": [
    "This is the tree, converted to a numpy array. Separate Geant4 events are stored on the first index.\n",
    "\n",
    "The array is really a ragged 2d array (because the number of energy deposits in an event isn't a fixed number and some variables stored are just floats)."
   ]
  },
  {
   "cell_type": "code",
   "execution_count": 8,
   "metadata": {},
   "outputs": [
    {
     "data": {
      "text/plain": [
       "array([array([7.64866455e-07, 1.43816754e-04, 1.18393481e-04, 2.70224796e-04,\n",
       "       1.26098632e-04, 3.40701470e-04]),\n",
       "       array([0.00079694, 0.00020306]), array([0.00071743, 0.00028257]),\n",
       "       array([4.94357309e-05, 3.83797018e-04, 3.10158122e-04, 2.29133637e-05,\n",
       "       2.33695765e-04]),\n",
       "       array([0.0001819 , 0.00021623, 0.00060187]),\n",
       "       array([5.54028495e-05, 4.68733990e-04, 1.29881894e-04, 3.45981266e-04]),\n",
       "       array([6.91754730e-05, 1.75281674e-04, 1.61492882e-04, 4.43930454e-04,\n",
       "       1.50119517e-04]),\n",
       "       array([0.001]),\n",
       "       array([0.00053858, 0.00019326, 0.00015699, 0.00011117]),\n",
       "       array([0.00015101, 0.00051218, 0.00023174, 0.00010507])],\n",
       "      dtype=object)"
      ]
     },
     "execution_count": 8,
     "metadata": {},
     "output_type": "execute_result"
    }
   ],
   "source": [
    "trackarr['edep']"
   ]
  },
  {
   "cell_type": "markdown",
   "metadata": {},
   "source": [
    "Things like the vertex info is just a list."
   ]
  },
  {
   "cell_type": "code",
   "execution_count": 9,
   "metadata": {},
   "outputs": [
    {
     "data": {
      "text/plain": [
       "array([0., 0., 0., 0., 0., 0., 0., 0., 0., 0.])"
      ]
     },
     "execution_count": 9,
     "metadata": {},
     "output_type": "execute_result"
    }
   ],
   "source": [
    "trackarr['x0']"
   ]
  },
  {
   "cell_type": "markdown",
   "metadata": {},
   "source": [
    "The other way to use pyroot is to iterate over the events in the tree.\n",
    "\n",
    "The loop variable is an 'event' object, and the branches are accessible as attributes."
   ]
  },
  {
   "cell_type": "code",
   "execution_count": 11,
   "metadata": {},
   "outputs": [
    {
     "name": "stdout",
     "output_type": "stream",
     "text": [
      "{ 7.6486646e-07, 0.00014381675, 0.00011839348, 0.00027022480, 0.00012609863, 0.00034070147 }\n",
      "0.0\n"
     ]
    }
   ],
   "source": [
    "for evt in simdata.data:\n",
    "    print(evt.edep)\n",
    "    print(evt.x0)\n",
    "    break"
   ]
  },
  {
   "cell_type": "markdown",
   "metadata": {},
   "source": [
    "You can fill an array like so (I'll just do edep, x, and x0)"
   ]
  },
  {
   "cell_type": "code",
   "execution_count": 22,
   "metadata": {},
   "outputs": [],
   "source": [
    "xarr = []\n",
    "Edeparr = []\n",
    "x0arr = []\n",
    "for evt in simdata.data:\n",
    "    xarr.append(list(evt.x))\n",
    "    Edeparr.append(list(evt.edep))\n",
    "    x0arr += [evt.x0]"
   ]
  },
  {
   "cell_type": "code",
   "execution_count": 24,
   "metadata": {},
   "outputs": [
    {
     "data": {
      "text/plain": [
       "[[7.648664552132503e-07,\n",
       "  0.00014381675372089132,\n",
       "  0.00011839348130768125,\n",
       "  0.0002702247960894987,\n",
       "  0.00012609863199936465,\n",
       "  0.00034070147042735083],\n",
       " [0.0007969360853010764, 0.00020306391469892366],\n",
       " [0.0007174344731795666, 0.00028256552682043344],\n",
       " [4.9435730900700196e-05,\n",
       "  0.00038379701765728434,\n",
       "  0.0003101581224280176,\n",
       "  2.291336374866636e-05,\n",
       "  0.0002336957652653315],\n",
       " [0.0001819048894165275, 0.0002162263989189461, 0.0006018687116645264],\n",
       " [5.540284950676223e-05,\n",
       "  0.00046873399044183276,\n",
       "  0.00012988189446939855,\n",
       "  0.00034598126558200645],\n",
       " [6.917547303805449e-05,\n",
       "  0.00017528167402867587,\n",
       "  0.0001614928819907654,\n",
       "  0.000443930454417893,\n",
       "  0.00015011951652461127],\n",
       " [0.001],\n",
       " [0.000538578983828651,\n",
       "  0.0001932619598518439,\n",
       "  0.00015698609573590227,\n",
       "  0.00011117296058360285],\n",
       " [0.00015100952553935557,\n",
       "  0.0005121799534159,\n",
       "  0.00023174183583213624,\n",
       "  0.00010506868521260822]]"
      ]
     },
     "execution_count": 24,
     "metadata": {},
     "output_type": "execute_result"
    }
   ],
   "source": [
    "Edeparr"
   ]
  }
 ],
 "metadata": {
  "kernelspec": {
   "display_name": "Python 3",
   "language": "python",
   "name": "python3"
  },
  "language_info": {
   "codemirror_mode": {
    "name": "ipython",
    "version": 3
   },
   "file_extension": ".py",
   "mimetype": "text/x-python",
   "name": "python",
   "nbconvert_exporter": "python",
   "pygments_lexer": "ipython3",
   "version": "3.11.4"
  },
  "latex_envs": {
   "LaTeX_envs_menu_present": true,
   "autoclose": false,
   "autocomplete": true,
   "bibliofile": "library.bib",
   "cite_by": "apalike",
   "current_citInitial": 1,
   "eqLabelWithNumbers": true,
   "eqNumInitial": 1,
   "hotkeys": {
    "equation": "Ctrl-E",
    "itemize": "Ctrl-I"
   },
   "labels_anchors": false,
   "latex_user_defs": false,
   "report_style_numbering": false,
   "user_envs_cfg": false
  },
  "toc": {
   "base_numbering": 1,
   "nav_menu": {},
   "number_sections": true,
   "sideBar": true,
   "skip_h1_title": false,
   "title_cell": "Table of Contents",
   "title_sidebar": "Contents",
   "toc_cell": false,
   "toc_position": {
    "height": "calc(100% - 180px)",
    "left": "10px",
    "top": "150px",
    "width": "371.2px"
   },
   "toc_section_display": true,
   "toc_window_display": true
  }
 },
 "nbformat": 4,
 "nbformat_minor": 4
}
