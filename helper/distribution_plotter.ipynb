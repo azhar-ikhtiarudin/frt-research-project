{
 "cells": [
  {
   "cell_type": "code",
   "execution_count": 12,
   "metadata": {},
   "outputs": [],
   "source": [
    "# Importing Library\n",
    "from simpleparamaterisation import TPCevt as TPC\n",
    "import numpy as np\n",
    "import matplotlib.pyplot as plt\n",
    "import pandas as pd\n",
    "from scipy.stats import truncnorm\n",
    "from matplotlib.colors import LogNorm\n",
    "from scipy.stats import multivariate_normal\n",
    "from ROOT import TFile, TTree\n"
   ]
  },
  {
   "cell_type": "code",
   "execution_count": 2,
   "metadata": {},
   "outputs": [],
   "source": [
    "def driftsigma_trans(z, det):\n",
    "    return np.sqrt(2*z*det.D_xy/det.vdrift)\n",
    "\n",
    "def driftsigma_long(z, det):\n",
    "    return np.sqrt(2*z*det.D_z/det.vdrift)\n",
    "nsigma_extend=3\n",
    "thresh=1e1"
   ]
  },
  {
   "cell_type": "code",
   "execution_count": 77,
   "metadata": {},
   "outputs": [],
   "source": [
    "det = TPC.Detector(\"Simple TPC with Atmospheric Ar (default values)\")\n",
    "PrimaryEvt = pd.DataFrame({'x': [1], 'y': [1], \n",
    "                        'z': [5], \n",
    "                        'Edep': [0.01]})\n",
    "PrimaryEvt['NIP'] = np.random.poisson(PrimaryEvt['Edep']/det.wval)"
   ]
  },
  {
   "cell_type": "code",
   "execution_count": 78,
   "metadata": {},
   "outputs": [
    {
     "data": {
      "text/html": [
       "<div>\n",
       "<style scoped>\n",
       "    .dataframe tbody tr th:only-of-type {\n",
       "        vertical-align: middle;\n",
       "    }\n",
       "\n",
       "    .dataframe tbody tr th {\n",
       "        vertical-align: top;\n",
       "    }\n",
       "\n",
       "    .dataframe thead th {\n",
       "        text-align: right;\n",
       "    }\n",
       "</style>\n",
       "<table border=\"1\" class=\"dataframe\">\n",
       "  <thead>\n",
       "    <tr style=\"text-align: right;\">\n",
       "      <th></th>\n",
       "      <th>x</th>\n",
       "      <th>y</th>\n",
       "      <th>z</th>\n",
       "      <th>Edep</th>\n",
       "      <th>NIP</th>\n",
       "    </tr>\n",
       "  </thead>\n",
       "  <tbody>\n",
       "    <tr>\n",
       "      <th>0</th>\n",
       "      <td>1</td>\n",
       "      <td>1</td>\n",
       "      <td>5</td>\n",
       "      <td>0.01</td>\n",
       "      <td>1</td>\n",
       "    </tr>\n",
       "  </tbody>\n",
       "</table>\n",
       "</div>"
      ],
      "text/plain": [
       "   x  y  z  Edep  NIP\n",
       "0  1  1  5  0.01    1"
      ]
     },
     "execution_count": 78,
     "metadata": {},
     "output_type": "execute_result"
    }
   ],
   "source": [
    "PrimaryEvt"
   ]
  },
  {
   "attachments": {},
   "cell_type": "markdown",
   "metadata": {},
   "source": [
    "### Poisson Distribution of NIP List"
   ]
  },
  {
   "cell_type": "code",
   "execution_count": 79,
   "metadata": {},
   "outputs": [
    {
     "data": {
      "image/png": "[encoded data removed]",
      "text/plain": [
       "<Figure size 640x480 with 1 Axes>"
      ]
     },
     "metadata": {},
     "output_type": "display_data"
    }
   ],
   "source": [
    "N = 1_000_000\n",
    "NIP_list = np.random.poisson(PrimaryEvt['Edep']/det.wval, N)\n",
    "# Plot the data\n",
    "plt.hist(NIP_list, bins='auto', alpha=0.7, rwidth=0.75)\n",
    "plt.xlabel('Value')\n",
    "plt.ylabel('Frequency')\n",
    "plt.title('Poisson Sampling')\n",
    "plt.grid(True)\n",
    "plt.show()"
   ]
  },
  {
   "cell_type": "code",
   "execution_count": 80,
   "metadata": {},
   "outputs": [
    {
     "data": {
      "text/plain": [
       "array([0, 1, 1, ..., 1, 1, 0])"
      ]
     },
     "execution_count": 80,
     "metadata": {},
     "output_type": "execute_result"
    }
   ],
   "source": [
    "NIP_list"
   ]
  },
  {
   "attachments": {},
   "cell_type": "markdown",
   "metadata": {},
   "source": [
    "### Gaussian Distribution of Drifted Event"
   ]
  },
  {
   "cell_type": "code",
   "execution_count": 63,
   "metadata": {},
   "outputs": [
    {
     "name": "stdout",
     "output_type": "stream",
     "text": [
      "203 µs ± 20 µs per loop (mean ± std. dev. of 7 runs, 1,000 loops each)\n"
     ]
    }
   ],
   "source": [
    "%%timeit\n",
    "primary_event = np.array(PrimaryEvt).T\n",
    "NIP = primary_event[4].astype(int)\n",
    "\n",
    "drifted_event = np.array([\n",
    "    primary_event[0].repeat(NIP) + np.random.normal(loc=0, scale=driftsigma_trans(primary_event[2], det)).repeat(NIP),\n",
    "    primary_event[1].repeat(NIP) + np.random.normal(loc=0, scale=driftsigma_trans(primary_event[2], det)).repeat(NIP),\n",
    "    (primary_event[2].repeat(NIP) + np.random.normal(loc=0, scale=driftsigma_trans(primary_event[2], det)).repeat(NIP))/det.vdrift\n",
    "])\n",
    "\n",
    "DriftedEvt = pd.DataFrame({'Pidx' : np.arange(len(NIP)).repeat(NIP), 'x':drifted_event[0], 'y':drifted_event[1], 'dt': drifted_event[2]})"
   ]
  },
  {
   "cell_type": "code",
   "execution_count": 54,
   "metadata": {},
   "outputs": [
    {
     "name": "stdout",
     "output_type": "stream",
     "text": [
      "(387,)\n"
     ]
    }
   ],
   "source": [
    "a = np.random.normal(loc=0, scale=driftsigma_trans(primary_event[0], det)).repeat(NIP)\n",
    "print(a.shape)"
   ]
  },
  {
   "cell_type": "code",
   "execution_count": 57,
   "metadata": {},
   "outputs": [
    {
     "data": {
      "text/plain": [
       "array([-2.57900787e-02,  1.16033736e-02, -1.02856245e-02, -2.10450772e-02,\n",
       "        2.01220731e-02, -1.27501991e-02, -3.69553133e-02,  3.02894290e-02,\n",
       "        8.72808560e-04,  3.10411983e-02,  2.72113449e-02, -1.07368168e-02,\n",
       "        4.78199927e-02,  3.33586922e-03, -7.38025424e-03, -1.01186274e-02,\n",
       "        1.28060107e-02,  3.90483954e-02,  1.18580331e-02, -8.63150203e-03,\n",
       "        2.19963287e-02,  1.99031510e-02,  1.08879478e-02, -4.62802623e-02,\n",
       "       -9.28072939e-03,  6.96017195e-03,  2.98542247e-02, -1.26150983e-02,\n",
       "       -2.57024958e-02, -3.05939670e-02,  2.27808159e-02, -1.12199678e-02,\n",
       "        7.48655862e-03, -1.15637158e-02,  2.39619630e-03, -1.31936264e-02,\n",
       "        1.47092748e-02,  1.87102613e-03, -5.11962640e-02,  4.14839259e-03,\n",
       "       -3.10233220e-02, -6.23925879e-03,  2.69888308e-02, -9.10135101e-03,\n",
       "       -3.21410414e-02,  1.64934503e-02,  2.72875834e-02,  4.50612346e-02,\n",
       "        2.69818270e-02, -3.95065839e-02, -2.41587208e-04, -3.17356352e-03,\n",
       "        1.70261211e-03,  8.48525799e-03, -1.97018374e-03, -9.27748553e-03,\n",
       "       -1.47801768e-02, -2.42562459e-02, -3.66270128e-05, -1.09636202e-02,\n",
       "       -6.45062231e-03, -2.35095750e-02, -9.33503378e-03,  3.48451577e-02,\n",
       "        2.02473786e-02,  1.85212188e-02, -2.07059206e-02,  2.79999562e-03,\n",
       "        4.54024762e-04,  2.62503237e-02, -1.76070995e-02, -2.21127751e-02,\n",
       "       -5.34746625e-03, -1.73843996e-02, -1.99461034e-02, -2.44065549e-02,\n",
       "       -2.23021496e-04, -2.14491187e-02, -3.40897758e-02, -2.43496625e-02,\n",
       "       -2.82551444e-02,  2.86534249e-03, -2.33573222e-03,  2.30843551e-02,\n",
       "       -2.50672742e-02, -2.31258769e-02, -1.58728726e-02,  4.72713103e-02,\n",
       "        2.88987223e-02,  9.14098797e-03,  1.17730231e-02, -1.68932213e-02,\n",
       "        7.58134802e-03,  2.02350746e-02, -1.98041540e-02,  4.46980068e-02,\n",
       "       -8.08522185e-03, -2.04849288e-02,  1.11750740e-02, -2.90671897e-02,\n",
       "       -1.96970266e-03,  2.93875142e-02, -3.78979395e-02, -9.59415963e-03,\n",
       "       -2.57792262e-02,  8.50072073e-03,  6.61071512e-03, -4.05994613e-03,\n",
       "       -1.76690405e-02, -2.66345706e-02,  2.52271916e-02, -1.67629316e-02,\n",
       "        1.97893335e-02,  4.13583557e-03, -3.65811172e-02, -2.73611230e-02,\n",
       "       -1.73067555e-02, -5.05250990e-02, -2.07908705e-02, -4.29457467e-03,\n",
       "        2.29080241e-02,  1.50282332e-02,  4.61289778e-02, -4.41790561e-03,\n",
       "        1.46009377e-02,  1.84793438e-03,  9.40196292e-03,  3.50171258e-02,\n",
       "        1.19172568e-02, -2.42741562e-02, -2.92071116e-02,  4.29728123e-02,\n",
       "       -1.10845853e-02,  2.24954743e-03,  2.57324619e-02, -1.68149492e-02,\n",
       "        7.84856527e-03, -1.48787748e-02, -5.71081769e-03,  1.00551538e-02,\n",
       "       -1.90255141e-02,  4.51121106e-03,  2.20849365e-03, -1.34976985e-02,\n",
       "       -2.36238255e-02, -3.54844754e-02, -1.29071571e-02, -3.16654838e-02,\n",
       "       -3.24635038e-02,  1.89640516e-02,  2.48968787e-03, -2.27798683e-02,\n",
       "       -2.20553166e-02, -2.17444710e-02, -1.07831318e-02, -1.74769447e-02,\n",
       "        1.69375170e-02,  1.80374037e-02, -2.47095470e-02,  4.20637982e-02,\n",
       "       -3.99320080e-03, -7.11857451e-03, -2.00685896e-02, -1.29580996e-02,\n",
       "       -9.54623900e-03,  6.12450063e-04, -1.25177491e-02, -2.97815572e-02,\n",
       "       -2.34567766e-03,  3.37792902e-02, -3.50474800e-03,  1.14584010e-03,\n",
       "        3.46704598e-02,  1.50195127e-02, -3.32738330e-02,  1.72846753e-02,\n",
       "        5.31133255e-03,  2.68714444e-02,  3.73947520e-04,  4.93927741e-02,\n",
       "        1.64667462e-02, -1.16113948e-02,  3.52994600e-02, -4.08009948e-03,\n",
       "       -1.91815720e-02, -2.53142417e-02, -1.89780726e-03,  1.01299217e-02,\n",
       "        3.65877057e-03,  3.56582582e-02,  2.34031958e-02, -6.38092283e-03,\n",
       "       -1.48675960e-02,  1.56073107e-02,  1.72282260e-02, -1.92357176e-02,\n",
       "        4.79940018e-02, -6.42804558e-03, -1.97830687e-02, -1.84706522e-03,\n",
       "       -2.31663072e-02,  4.08003273e-03,  2.86553535e-02,  3.60639926e-03,\n",
       "        4.09336373e-02, -2.23311760e-02,  1.22343188e-03,  2.62661901e-02,\n",
       "       -9.96547560e-03, -3.78087266e-02,  2.87926056e-02, -1.14017809e-02,\n",
       "       -7.03380892e-03,  1.03010595e-02, -4.10877336e-02, -5.42176046e-03,\n",
       "        9.56131953e-03, -1.85865185e-02, -4.55610715e-02, -1.74535275e-03,\n",
       "        2.93633472e-02,  4.62166809e-03, -2.14196762e-02, -5.66167306e-03,\n",
       "       -7.95274086e-03, -9.58100917e-03, -2.90971591e-02, -3.32248851e-02,\n",
       "        2.82876927e-02,  4.54221558e-03,  2.19270115e-02, -2.05857343e-02,\n",
       "        2.35755027e-02, -6.00598654e-03,  3.01241275e-02, -3.41615286e-02,\n",
       "       -4.07878506e-02, -4.65236032e-02,  1.15088170e-02, -7.44275554e-03,\n",
       "        1.12157814e-03, -2.15746691e-02, -4.13628922e-02, -2.08053594e-02,\n",
       "        1.34209819e-03,  8.53903895e-03, -2.30681837e-02, -1.79293067e-02,\n",
       "       -2.58173411e-02, -3.41927686e-02,  3.24173664e-02, -1.73416826e-02,\n",
       "       -5.71994985e-03,  3.81812035e-03, -5.01776571e-03, -5.11737458e-02,\n",
       "        1.52707658e-02, -2.65297370e-02, -3.33128713e-02,  1.96734409e-02,\n",
       "       -3.23008589e-03, -4.26088888e-03,  2.86436171e-02, -2.01635963e-02,\n",
       "       -8.62848006e-03,  1.87037777e-02, -2.93852594e-03,  6.91421605e-03,\n",
       "        4.96942024e-02,  1.90966973e-02, -4.83674982e-02, -2.90773445e-02,\n",
       "       -2.79788212e-03,  2.04549631e-02, -1.28659242e-02, -5.90952500e-03,\n",
       "       -4.66333214e-02, -3.73287430e-02, -1.28144799e-02, -5.14762660e-02,\n",
       "       -1.02669526e-02, -3.88371955e-03, -6.06458718e-03,  1.37493811e-02,\n",
       "        2.43937824e-03,  8.82985229e-03, -3.06542735e-02,  1.67216851e-02,\n",
       "       -1.02461708e-02,  2.08806195e-02,  2.12048057e-02,  8.89811528e-03,\n",
       "       -2.60921839e-02,  8.30385825e-03,  3.11184478e-03, -2.23771922e-02,\n",
       "       -1.32225249e-02, -1.99075983e-02,  7.96985547e-04,  1.76567717e-02,\n",
       "        2.04834492e-03, -8.31070928e-03,  3.16355782e-02, -4.76293984e-03,\n",
       "       -5.04685399e-02,  2.10266540e-02, -1.30313900e-02, -2.38380957e-03,\n",
       "        2.68846696e-02,  2.73822185e-02,  6.34701973e-03, -1.11478100e-02,\n",
       "       -3.54052225e-02, -2.77781036e-02,  8.06987378e-03, -2.15806296e-02,\n",
       "        2.59586120e-02, -1.58442517e-02, -3.84615038e-03,  8.52424217e-03,\n",
       "       -3.12998314e-02, -4.83780450e-03,  1.99119104e-02,  3.78912212e-03,\n",
       "        5.68601896e-03,  1.06762766e-02, -2.11161301e-03, -1.23289123e-02,\n",
       "        1.02653884e-02,  1.99769676e-02,  2.63753408e-02,  2.93934179e-02,\n",
       "        1.26242290e-02, -3.52354688e-02,  4.54617759e-03,  1.69349471e-02,\n",
       "        1.73256579e-02, -2.48496081e-03,  2.71094011e-02, -1.12870161e-02,\n",
       "       -1.66929395e-02,  3.47611234e-02,  7.61455092e-04, -8.82279549e-03,\n",
       "       -1.39100584e-03,  3.75035962e-03, -3.24882825e-04,  2.49915080e-02,\n",
       "        2.68696128e-02,  2.49542766e-02,  1.76911120e-02, -3.85254840e-02,\n",
       "        1.59113699e-03,  1.60013487e-02,  2.87520754e-02, -3.30219571e-02,\n",
       "       -2.18504957e-02, -1.93394831e-02, -3.59914005e-02,  1.20918692e-02,\n",
       "       -2.33866758e-02,  2.55225161e-02,  1.50222749e-02,  9.54369792e-03,\n",
       "       -2.10394888e-02,  6.91799545e-02,  3.76186485e-02, -1.63538873e-03,\n",
       "       -8.13868658e-03, -1.02281870e-02, -3.33756540e-02, -8.82017263e-03,\n",
       "        2.90564389e-02, -2.52129774e-02, -2.79881848e-02,  1.50496075e-02,\n",
       "       -2.47263945e-02,  1.29798477e-02,  3.51671570e-02, -2.23473964e-02,\n",
       "       -7.22881632e-03,  1.30234131e-02, -1.44929939e-02,  2.48821826e-02,\n",
       "       -2.63279362e-02,  7.76378776e-03,  1.34895750e-02])"
      ]
     },
     "execution_count": 57,
     "metadata": {},
     "output_type": "execute_result"
    }
   ],
   "source": [
    "a"
   ]
  },
  {
   "cell_type": "code",
   "execution_count": 56,
   "metadata": {},
   "outputs": [
    {
     "name": "stdout",
     "output_type": "stream",
     "text": [
      "(387,)\n"
     ]
    }
   ],
   "source": [
    "a = np.random.normal(loc=0, scale=driftsigma_trans(primary_event[0], det), size=len(NIP.repeat(NIP)))\n",
    "print(a.shape)"
   ]
  },
  {
   "cell_type": "code",
   "execution_count": 60,
   "metadata": {},
   "outputs": [
    {
     "name": "stdout",
     "output_type": "stream",
     "text": [
      "201 µs ± 7.13 µs per loop (mean ± std. dev. of 7 runs, 1,000 loops each)\n"
     ]
    }
   ],
   "source": [
    "%%timeit\n",
    "primary_event = np.array(PrimaryEvt).T\n",
    "NIP = primary_event[4].astype(int)\n",
    "NIP_length = len(NIP.repeat(NIP))\n",
    "\n",
    "drifted_event = np.array([\n",
    "    primary_event[0].repeat(NIP) + np.random.normal(loc=0, scale=driftsigma_trans(primary_event[2], det), size=NIP_length),\n",
    "    primary_event[1].repeat(NIP) + np.random.normal(loc=0, scale=driftsigma_trans(primary_event[2], det), size=NIP_length),\n",
    "    (primary_event[2].repeat(NIP) + np.random.normal(loc=0, scale=driftsigma_trans(primary_event[2], det), size=NIP_length))/det.vdrift\n",
    "])\n",
    "\n",
    "DriftedEvt = pd.DataFrame({'Pidx' : np.arange(len(NIP)).repeat(NIP), 'x':drifted_event[0], 'y':drifted_event[1], 'dt': drifted_event[2]})"
   ]
  },
  {
   "cell_type": "code",
   "execution_count": 58,
   "metadata": {},
   "outputs": [
    {
     "data": {
      "text/plain": [
       "array([-2.57900787e-02,  1.16033736e-02, -1.02856245e-02, -2.10450772e-02,\n",
       "        2.01220731e-02, -1.27501991e-02, -3.69553133e-02,  3.02894290e-02,\n",
       "        8.72808560e-04,  3.10411983e-02,  2.72113449e-02, -1.07368168e-02,\n",
       "        4.78199927e-02,  3.33586922e-03, -7.38025424e-03, -1.01186274e-02,\n",
       "        1.28060107e-02,  3.90483954e-02,  1.18580331e-02, -8.63150203e-03,\n",
       "        2.19963287e-02,  1.99031510e-02,  1.08879478e-02, -4.62802623e-02,\n",
       "       -9.28072939e-03,  6.96017195e-03,  2.98542247e-02, -1.26150983e-02,\n",
       "       -2.57024958e-02, -3.05939670e-02,  2.27808159e-02, -1.12199678e-02,\n",
       "        7.48655862e-03, -1.15637158e-02,  2.39619630e-03, -1.31936264e-02,\n",
       "        1.47092748e-02,  1.87102613e-03, -5.11962640e-02,  4.14839259e-03,\n",
       "       -3.10233220e-02, -6.23925879e-03,  2.69888308e-02, -9.10135101e-03,\n",
       "       -3.21410414e-02,  1.64934503e-02,  2.72875834e-02,  4.50612346e-02,\n",
       "        2.69818270e-02, -3.95065839e-02, -2.41587208e-04, -3.17356352e-03,\n",
       "        1.70261211e-03,  8.48525799e-03, -1.97018374e-03, -9.27748553e-03,\n",
       "       -1.47801768e-02, -2.42562459e-02, -3.66270128e-05, -1.09636202e-02,\n",
       "       -6.45062231e-03, -2.35095750e-02, -9.33503378e-03,  3.48451577e-02,\n",
       "        2.02473786e-02,  1.85212188e-02, -2.07059206e-02,  2.79999562e-03,\n",
       "        4.54024762e-04,  2.62503237e-02, -1.76070995e-02, -2.21127751e-02,\n",
       "       -5.34746625e-03, -1.73843996e-02, -1.99461034e-02, -2.44065549e-02,\n",
       "       -2.23021496e-04, -2.14491187e-02, -3.40897758e-02, -2.43496625e-02,\n",
       "       -2.82551444e-02,  2.86534249e-03, -2.33573222e-03,  2.30843551e-02,\n",
       "       -2.50672742e-02, -2.31258769e-02, -1.58728726e-02,  4.72713103e-02,\n",
       "        2.88987223e-02,  9.14098797e-03,  1.17730231e-02, -1.68932213e-02,\n",
       "        7.58134802e-03,  2.02350746e-02, -1.98041540e-02,  4.46980068e-02,\n",
       "       -8.08522185e-03, -2.04849288e-02,  1.11750740e-02, -2.90671897e-02,\n",
       "       -1.96970266e-03,  2.93875142e-02, -3.78979395e-02, -9.59415963e-03,\n",
       "       -2.57792262e-02,  8.50072073e-03,  6.61071512e-03, -4.05994613e-03,\n",
       "       -1.76690405e-02, -2.66345706e-02,  2.52271916e-02, -1.67629316e-02,\n",
       "        1.97893335e-02,  4.13583557e-03, -3.65811172e-02, -2.73611230e-02,\n",
       "       -1.73067555e-02, -5.05250990e-02, -2.07908705e-02, -4.29457467e-03,\n",
       "        2.29080241e-02,  1.50282332e-02,  4.61289778e-02, -4.41790561e-03,\n",
       "        1.46009377e-02,  1.84793438e-03,  9.40196292e-03,  3.50171258e-02,\n",
       "        1.19172568e-02, -2.42741562e-02, -2.92071116e-02,  4.29728123e-02,\n",
       "       -1.10845853e-02,  2.24954743e-03,  2.57324619e-02, -1.68149492e-02,\n",
       "        7.84856527e-03, -1.48787748e-02, -5.71081769e-03,  1.00551538e-02,\n",
       "       -1.90255141e-02,  4.51121106e-03,  2.20849365e-03, -1.34976985e-02,\n",
       "       -2.36238255e-02, -3.54844754e-02, -1.29071571e-02, -3.16654838e-02,\n",
       "       -3.24635038e-02,  1.89640516e-02,  2.48968787e-03, -2.27798683e-02,\n",
       "       -2.20553166e-02, -2.17444710e-02, -1.07831318e-02, -1.74769447e-02,\n",
       "        1.69375170e-02,  1.80374037e-02, -2.47095470e-02,  4.20637982e-02,\n",
       "       -3.99320080e-03, -7.11857451e-03, -2.00685896e-02, -1.29580996e-02,\n",
       "       -9.54623900e-03,  6.12450063e-04, -1.25177491e-02, -2.97815572e-02,\n",
       "       -2.34567766e-03,  3.37792902e-02, -3.50474800e-03,  1.14584010e-03,\n",
       "        3.46704598e-02,  1.50195127e-02, -3.32738330e-02,  1.72846753e-02,\n",
       "        5.31133255e-03,  2.68714444e-02,  3.73947520e-04,  4.93927741e-02,\n",
       "        1.64667462e-02, -1.16113948e-02,  3.52994600e-02, -4.08009948e-03,\n",
       "       -1.91815720e-02, -2.53142417e-02, -1.89780726e-03,  1.01299217e-02,\n",
       "        3.65877057e-03,  3.56582582e-02,  2.34031958e-02, -6.38092283e-03,\n",
       "       -1.48675960e-02,  1.56073107e-02,  1.72282260e-02, -1.92357176e-02,\n",
       "        4.79940018e-02, -6.42804558e-03, -1.97830687e-02, -1.84706522e-03,\n",
       "       -2.31663072e-02,  4.08003273e-03,  2.86553535e-02,  3.60639926e-03,\n",
       "        4.09336373e-02, -2.23311760e-02,  1.22343188e-03,  2.62661901e-02,\n",
       "       -9.96547560e-03, -3.78087266e-02,  2.87926056e-02, -1.14017809e-02,\n",
       "       -7.03380892e-03,  1.03010595e-02, -4.10877336e-02, -5.42176046e-03,\n",
       "        9.56131953e-03, -1.85865185e-02, -4.55610715e-02, -1.74535275e-03,\n",
       "        2.93633472e-02,  4.62166809e-03, -2.14196762e-02, -5.66167306e-03,\n",
       "       -7.95274086e-03, -9.58100917e-03, -2.90971591e-02, -3.32248851e-02,\n",
       "        2.82876927e-02,  4.54221558e-03,  2.19270115e-02, -2.05857343e-02,\n",
       "        2.35755027e-02, -6.00598654e-03,  3.01241275e-02, -3.41615286e-02,\n",
       "       -4.07878506e-02, -4.65236032e-02,  1.15088170e-02, -7.44275554e-03,\n",
       "        1.12157814e-03, -2.15746691e-02, -4.13628922e-02, -2.08053594e-02,\n",
       "        1.34209819e-03,  8.53903895e-03, -2.30681837e-02, -1.79293067e-02,\n",
       "       -2.58173411e-02, -3.41927686e-02,  3.24173664e-02, -1.73416826e-02,\n",
       "       -5.71994985e-03,  3.81812035e-03, -5.01776571e-03, -5.11737458e-02,\n",
       "        1.52707658e-02, -2.65297370e-02, -3.33128713e-02,  1.96734409e-02,\n",
       "       -3.23008589e-03, -4.26088888e-03,  2.86436171e-02, -2.01635963e-02,\n",
       "       -8.62848006e-03,  1.87037777e-02, -2.93852594e-03,  6.91421605e-03,\n",
       "        4.96942024e-02,  1.90966973e-02, -4.83674982e-02, -2.90773445e-02,\n",
       "       -2.79788212e-03,  2.04549631e-02, -1.28659242e-02, -5.90952500e-03,\n",
       "       -4.66333214e-02, -3.73287430e-02, -1.28144799e-02, -5.14762660e-02,\n",
       "       -1.02669526e-02, -3.88371955e-03, -6.06458718e-03,  1.37493811e-02,\n",
       "        2.43937824e-03,  8.82985229e-03, -3.06542735e-02,  1.67216851e-02,\n",
       "       -1.02461708e-02,  2.08806195e-02,  2.12048057e-02,  8.89811528e-03,\n",
       "       -2.60921839e-02,  8.30385825e-03,  3.11184478e-03, -2.23771922e-02,\n",
       "       -1.32225249e-02, -1.99075983e-02,  7.96985547e-04,  1.76567717e-02,\n",
       "        2.04834492e-03, -8.31070928e-03,  3.16355782e-02, -4.76293984e-03,\n",
       "       -5.04685399e-02,  2.10266540e-02, -1.30313900e-02, -2.38380957e-03,\n",
       "        2.68846696e-02,  2.73822185e-02,  6.34701973e-03, -1.11478100e-02,\n",
       "       -3.54052225e-02, -2.77781036e-02,  8.06987378e-03, -2.15806296e-02,\n",
       "        2.59586120e-02, -1.58442517e-02, -3.84615038e-03,  8.52424217e-03,\n",
       "       -3.12998314e-02, -4.83780450e-03,  1.99119104e-02,  3.78912212e-03,\n",
       "        5.68601896e-03,  1.06762766e-02, -2.11161301e-03, -1.23289123e-02,\n",
       "        1.02653884e-02,  1.99769676e-02,  2.63753408e-02,  2.93934179e-02,\n",
       "        1.26242290e-02, -3.52354688e-02,  4.54617759e-03,  1.69349471e-02,\n",
       "        1.73256579e-02, -2.48496081e-03,  2.71094011e-02, -1.12870161e-02,\n",
       "       -1.66929395e-02,  3.47611234e-02,  7.61455092e-04, -8.82279549e-03,\n",
       "       -1.39100584e-03,  3.75035962e-03, -3.24882825e-04,  2.49915080e-02,\n",
       "        2.68696128e-02,  2.49542766e-02,  1.76911120e-02, -3.85254840e-02,\n",
       "        1.59113699e-03,  1.60013487e-02,  2.87520754e-02, -3.30219571e-02,\n",
       "       -2.18504957e-02, -1.93394831e-02, -3.59914005e-02,  1.20918692e-02,\n",
       "       -2.33866758e-02,  2.55225161e-02,  1.50222749e-02,  9.54369792e-03,\n",
       "       -2.10394888e-02,  6.91799545e-02,  3.76186485e-02, -1.63538873e-03,\n",
       "       -8.13868658e-03, -1.02281870e-02, -3.33756540e-02, -8.82017263e-03,\n",
       "        2.90564389e-02, -2.52129774e-02, -2.79881848e-02,  1.50496075e-02,\n",
       "       -2.47263945e-02,  1.29798477e-02,  3.51671570e-02, -2.23473964e-02,\n",
       "       -7.22881632e-03,  1.30234131e-02, -1.44929939e-02,  2.48821826e-02,\n",
       "       -2.63279362e-02,  7.76378776e-03,  1.34895750e-02])"
      ]
     },
     "execution_count": 58,
     "metadata": {},
     "output_type": "execute_result"
    }
   ],
   "source": [
    "a"
   ]
  },
  {
   "cell_type": "code",
   "execution_count": 51,
   "metadata": {},
   "outputs": [
    {
     "data": {
      "text/html": [
       "<div>\n",
       "<style scoped>\n",
       "    .dataframe tbody tr th:only-of-type {\n",
       "        vertical-align: middle;\n",
       "    }\n",
       "\n",
       "    .dataframe tbody tr th {\n",
       "        vertical-align: top;\n",
       "    }\n",
       "\n",
       "    .dataframe thead th {\n",
       "        text-align: right;\n",
       "    }\n",
       "</style>\n",
       "<table border=\"1\" class=\"dataframe\">\n",
       "  <thead>\n",
       "    <tr style=\"text-align: right;\">\n",
       "      <th></th>\n",
       "      <th>Pidx</th>\n",
       "      <th>x</th>\n",
       "      <th>y</th>\n",
       "      <th>dt</th>\n",
       "    </tr>\n",
       "  </thead>\n",
       "  <tbody>\n",
       "    <tr>\n",
       "      <th>0</th>\n",
       "      <td>0</td>\n",
       "      <td>1.027996</td>\n",
       "      <td>0.964701</td>\n",
       "      <td>0.029261</td>\n",
       "    </tr>\n",
       "    <tr>\n",
       "      <th>1</th>\n",
       "      <td>0</td>\n",
       "      <td>1.027996</td>\n",
       "      <td>0.964701</td>\n",
       "      <td>0.029261</td>\n",
       "    </tr>\n",
       "    <tr>\n",
       "      <th>2</th>\n",
       "      <td>0</td>\n",
       "      <td>1.027996</td>\n",
       "      <td>0.964701</td>\n",
       "      <td>0.029261</td>\n",
       "    </tr>\n",
       "    <tr>\n",
       "      <th>3</th>\n",
       "      <td>0</td>\n",
       "      <td>1.027996</td>\n",
       "      <td>0.964701</td>\n",
       "      <td>0.029261</td>\n",
       "    </tr>\n",
       "    <tr>\n",
       "      <th>4</th>\n",
       "      <td>0</td>\n",
       "      <td>1.027996</td>\n",
       "      <td>0.964701</td>\n",
       "      <td>0.029261</td>\n",
       "    </tr>\n",
       "    <tr>\n",
       "      <th>...</th>\n",
       "      <td>...</td>\n",
       "      <td>...</td>\n",
       "      <td>...</td>\n",
       "      <td>...</td>\n",
       "    </tr>\n",
       "    <tr>\n",
       "      <th>382</th>\n",
       "      <td>0</td>\n",
       "      <td>1.027996</td>\n",
       "      <td>0.964701</td>\n",
       "      <td>0.029261</td>\n",
       "    </tr>\n",
       "    <tr>\n",
       "      <th>383</th>\n",
       "      <td>0</td>\n",
       "      <td>1.027996</td>\n",
       "      <td>0.964701</td>\n",
       "      <td>0.029261</td>\n",
       "    </tr>\n",
       "    <tr>\n",
       "      <th>384</th>\n",
       "      <td>0</td>\n",
       "      <td>1.027996</td>\n",
       "      <td>0.964701</td>\n",
       "      <td>0.029261</td>\n",
       "    </tr>\n",
       "    <tr>\n",
       "      <th>385</th>\n",
       "      <td>0</td>\n",
       "      <td>1.027996</td>\n",
       "      <td>0.964701</td>\n",
       "      <td>0.029261</td>\n",
       "    </tr>\n",
       "    <tr>\n",
       "      <th>386</th>\n",
       "      <td>0</td>\n",
       "      <td>1.027996</td>\n",
       "      <td>0.964701</td>\n",
       "      <td>0.029261</td>\n",
       "    </tr>\n",
       "  </tbody>\n",
       "</table>\n",
       "<p>387 rows × 4 columns</p>\n",
       "</div>"
      ],
      "text/plain": [
       "     Pidx         x         y        dt\n",
       "0       0  1.027996  0.964701  0.029261\n",
       "1       0  1.027996  0.964701  0.029261\n",
       "2       0  1.027996  0.964701  0.029261\n",
       "3       0  1.027996  0.964701  0.029261\n",
       "4       0  1.027996  0.964701  0.029261\n",
       "..    ...       ...       ...       ...\n",
       "382     0  1.027996  0.964701  0.029261\n",
       "383     0  1.027996  0.964701  0.029261\n",
       "384     0  1.027996  0.964701  0.029261\n",
       "385     0  1.027996  0.964701  0.029261\n",
       "386     0  1.027996  0.964701  0.029261\n",
       "\n",
       "[387 rows x 4 columns]"
      ]
     },
     "execution_count": 51,
     "metadata": {},
     "output_type": "execute_result"
    }
   ],
   "source": [
    "DriftedEvt"
   ]
  },
  {
   "cell_type": "code",
   "execution_count": 52,
   "metadata": {},
   "outputs": [
    {
     "data": {
      "text/plain": [
       "array([1.02799597, 1.02799597, 1.02799597, 1.02799597, 1.02799597,\n",
       "       1.02799597, 1.02799597, 1.02799597, 1.02799597, 1.02799597,\n",
       "       1.02799597, 1.02799597, 1.02799597, 1.02799597, 1.02799597,\n",
       "       1.02799597, 1.02799597, 1.02799597, 1.02799597, 1.02799597,\n",
       "       1.02799597, 1.02799597, 1.02799597, 1.02799597, 1.02799597,\n",
       "       1.02799597, 1.02799597, 1.02799597, 1.02799597, 1.02799597,\n",
       "       1.02799597, 1.02799597, 1.02799597, 1.02799597, 1.02799597,\n",
       "       1.02799597, 1.02799597, 1.02799597, 1.02799597, 1.02799597,\n",
       "       1.02799597, 1.02799597, 1.02799597, 1.02799597, 1.02799597,\n",
       "       1.02799597, 1.02799597, 1.02799597, 1.02799597, 1.02799597,\n",
       "       1.02799597, 1.02799597, 1.02799597, 1.02799597, 1.02799597,\n",
       "       1.02799597, 1.02799597, 1.02799597, 1.02799597, 1.02799597,\n",
       "       1.02799597, 1.02799597, 1.02799597, 1.02799597, 1.02799597,\n",
       "       1.02799597, 1.02799597, 1.02799597, 1.02799597, 1.02799597,\n",
       "       1.02799597, 1.02799597, 1.02799597, 1.02799597, 1.02799597,\n",
       "       1.02799597, 1.02799597, 1.02799597, 1.02799597, 1.02799597,\n",
       "       1.02799597, 1.02799597, 1.02799597, 1.02799597, 1.02799597,\n",
       "       1.02799597, 1.02799597, 1.02799597, 1.02799597, 1.02799597,\n",
       "       1.02799597, 1.02799597, 1.02799597, 1.02799597, 1.02799597,\n",
       "       1.02799597, 1.02799597, 1.02799597, 1.02799597, 1.02799597,\n",
       "       1.02799597, 1.02799597, 1.02799597, 1.02799597, 1.02799597,\n",
       "       1.02799597, 1.02799597, 1.02799597, 1.02799597, 1.02799597,\n",
       "       1.02799597, 1.02799597, 1.02799597, 1.02799597, 1.02799597,\n",
       "       1.02799597, 1.02799597, 1.02799597, 1.02799597, 1.02799597,\n",
       "       1.02799597, 1.02799597, 1.02799597, 1.02799597, 1.02799597,\n",
       "       1.02799597, 1.02799597, 1.02799597, 1.02799597, 1.02799597,\n",
       "       1.02799597, 1.02799597, 1.02799597, 1.02799597, 1.02799597,\n",
       "       1.02799597, 1.02799597, 1.02799597, 1.02799597, 1.02799597,\n",
       "       1.02799597, 1.02799597, 1.02799597, 1.02799597, 1.02799597,\n",
       "       1.02799597, 1.02799597, 1.02799597, 1.02799597, 1.02799597,\n",
       "       1.02799597, 1.02799597, 1.02799597, 1.02799597, 1.02799597,\n",
       "       1.02799597, 1.02799597, 1.02799597, 1.02799597, 1.02799597,\n",
       "       1.02799597, 1.02799597, 1.02799597, 1.02799597, 1.02799597,\n",
       "       1.02799597, 1.02799597, 1.02799597, 1.02799597, 1.02799597,\n",
       "       1.02799597, 1.02799597, 1.02799597, 1.02799597, 1.02799597,\n",
       "       1.02799597, 1.02799597, 1.02799597, 1.02799597, 1.02799597,\n",
       "       1.02799597, 1.02799597, 1.02799597, 1.02799597, 1.02799597,\n",
       "       1.02799597, 1.02799597, 1.02799597, 1.02799597, 1.02799597,\n",
       "       1.02799597, 1.02799597, 1.02799597, 1.02799597, 1.02799597,\n",
       "       1.02799597, 1.02799597, 1.02799597, 1.02799597, 1.02799597,\n",
       "       1.02799597, 1.02799597, 1.02799597, 1.02799597, 1.02799597,\n",
       "       1.02799597, 1.02799597, 1.02799597, 1.02799597, 1.02799597,\n",
       "       1.02799597, 1.02799597, 1.02799597, 1.02799597, 1.02799597,\n",
       "       1.02799597, 1.02799597, 1.02799597, 1.02799597, 1.02799597,\n",
       "       1.02799597, 1.02799597, 1.02799597, 1.02799597, 1.02799597,\n",
       "       1.02799597, 1.02799597, 1.02799597, 1.02799597, 1.02799597,\n",
       "       1.02799597, 1.02799597, 1.02799597, 1.02799597, 1.02799597,\n",
       "       1.02799597, 1.02799597, 1.02799597, 1.02799597, 1.02799597,\n",
       "       1.02799597, 1.02799597, 1.02799597, 1.02799597, 1.02799597,\n",
       "       1.02799597, 1.02799597, 1.02799597, 1.02799597, 1.02799597,\n",
       "       1.02799597, 1.02799597, 1.02799597, 1.02799597, 1.02799597,\n",
       "       1.02799597, 1.02799597, 1.02799597, 1.02799597, 1.02799597,\n",
       "       1.02799597, 1.02799597, 1.02799597, 1.02799597, 1.02799597,\n",
       "       1.02799597, 1.02799597, 1.02799597, 1.02799597, 1.02799597,\n",
       "       1.02799597, 1.02799597, 1.02799597, 1.02799597, 1.02799597,\n",
       "       1.02799597, 1.02799597, 1.02799597, 1.02799597, 1.02799597,\n",
       "       1.02799597, 1.02799597, 1.02799597, 1.02799597, 1.02799597,\n",
       "       1.02799597, 1.02799597, 1.02799597, 1.02799597, 1.02799597,\n",
       "       1.02799597, 1.02799597, 1.02799597, 1.02799597, 1.02799597,\n",
       "       1.02799597, 1.02799597, 1.02799597, 1.02799597, 1.02799597,\n",
       "       1.02799597, 1.02799597, 1.02799597, 1.02799597, 1.02799597,\n",
       "       1.02799597, 1.02799597, 1.02799597, 1.02799597, 1.02799597,\n",
       "       1.02799597, 1.02799597, 1.02799597, 1.02799597, 1.02799597,\n",
       "       1.02799597, 1.02799597, 1.02799597, 1.02799597, 1.02799597,\n",
       "       1.02799597, 1.02799597, 1.02799597, 1.02799597, 1.02799597,\n",
       "       1.02799597, 1.02799597, 1.02799597, 1.02799597, 1.02799597,\n",
       "       1.02799597, 1.02799597, 1.02799597, 1.02799597, 1.02799597,\n",
       "       1.02799597, 1.02799597, 1.02799597, 1.02799597, 1.02799597,\n",
       "       1.02799597, 1.02799597, 1.02799597, 1.02799597, 1.02799597,\n",
       "       1.02799597, 1.02799597, 1.02799597, 1.02799597, 1.02799597,\n",
       "       1.02799597, 1.02799597, 1.02799597, 1.02799597, 1.02799597,\n",
       "       1.02799597, 1.02799597, 1.02799597, 1.02799597, 1.02799597,\n",
       "       1.02799597, 1.02799597, 1.02799597, 1.02799597, 1.02799597,\n",
       "       1.02799597, 1.02799597, 1.02799597, 1.02799597, 1.02799597,\n",
       "       1.02799597, 1.02799597, 1.02799597, 1.02799597, 1.02799597,\n",
       "       1.02799597, 1.02799597, 1.02799597, 1.02799597, 1.02799597,\n",
       "       1.02799597, 1.02799597, 1.02799597, 1.02799597, 1.02799597,\n",
       "       1.02799597, 1.02799597])"
      ]
     },
     "execution_count": 52,
     "metadata": {},
     "output_type": "execute_result"
    }
   ],
   "source": [
    "drifted_event[0]"
   ]
  },
  {
   "cell_type": "code",
   "execution_count": 64,
   "metadata": {},
   "outputs": [],
   "source": [
    "# %%timeit\n",
    "primary_event = np.array(PrimaryEvt).T\n",
    "NIP = primary_event[4].astype(int)\n",
    "NIP_length = len(NIP.repeat(NIP))\n",
    "\n",
    "drifted_event = np.array([\n",
    "    primary_event[0].repeat(NIP) + np.random.normal(loc=0, scale=driftsigma_trans(primary_event[2], det), size=NIP_length),\n",
    "    primary_event[1].repeat(NIP) + np.random.normal(loc=0, scale=driftsigma_trans(primary_event[2], det), size=NIP_length),\n",
    "    (primary_event[2].repeat(NIP) + np.random.normal(loc=0, scale=driftsigma_trans(primary_event[2], det), size=NIP_length))/det.vdrift\n",
    "])\n",
    "\n",
    "DriftedEvt = pd.DataFrame({'Pidx' : np.arange(len(NIP)).repeat(NIP), 'x':drifted_event[0], 'y':drifted_event[1], 'dt': drifted_event[2]})"
   ]
  },
  {
   "cell_type": "code",
   "execution_count": 68,
   "metadata": {},
   "outputs": [
    {
     "data": {
      "text/plain": [
       "(array([0.42753181, 0.99757421, 1.71012722, 1.71012722, 2.70770144,\n",
       "        5.27289227, 7.1255301 , 7.69557251, 6.41297709, 8.55063612,\n",
       "        5.13038167, 3.70527565, 2.28016963, 1.14008482, 0.1425106 ,\n",
       "        0.1425106 ]),\n",
       " array([0.85930476, 0.8774366 , 0.89556844, 0.91370028, 0.93183212,\n",
       "        0.94996396, 0.9680958 , 0.98622764, 1.00435948, 1.02249131,\n",
       "        1.04062315, 1.05875499, 1.07688683, 1.09501867, 1.11315051,\n",
       "        1.13128235, 1.14941419]),\n",
       " <BarContainer object of 16 artists>)"
      ]
     },
     "execution_count": 68,
     "metadata": {},
     "output_type": "execute_result"
    },
    {
     "data": {
      "image/png": "[encoded data removed]",
      "text/plain": [
       "<Figure size 640x480 with 1 Axes>"
      ]
     },
     "metadata": {},
     "output_type": "display_data"
    }
   ],
   "source": [
    "plt.hist(drifted_event[0], bins='auto', density=True)"
   ]
  },
  {
   "cell_type": "code",
   "execution_count": 69,
   "metadata": {},
   "outputs": [
    {
     "data": {
      "text/plain": [
       "(array([0.41380924, 0.55174566, 0.41380924, 2.06904622, 3.86221961,\n",
       "        4.55190168, 6.34507508, 7.03475715, 8.27618488, 7.31062998,\n",
       "        5.51745659, 3.58634678, 2.20698263, 0.55174566, 0.55174566,\n",
       "        0.13793641]),\n",
       " array([0.84721539, 0.86594851, 0.88468163, 0.90341475, 0.92214787,\n",
       "        0.94088099, 0.9596141 , 0.97834722, 0.99708034, 1.01581346,\n",
       "        1.03454658, 1.0532797 , 1.07201282, 1.09074594, 1.10947906,\n",
       "        1.12821218, 1.1469453 ]),\n",
       " <BarContainer object of 16 artists>)"
      ]
     },
     "execution_count": 69,
     "metadata": {},
     "output_type": "execute_result"
    },
    {
     "data": {
      "image/png": "[encoded data removed]",
      "text/plain": [
       "<Figure size 640x480 with 1 Axes>"
      ]
     },
     "metadata": {},
     "output_type": "display_data"
    }
   ],
   "source": [
    "plt.hist(drifted_event[1], bins='auto', density=True)"
   ]
  },
  {
   "cell_type": "code",
   "execution_count": 70,
   "metadata": {},
   "outputs": [
    {
     "data": {
      "text/plain": [
       "(array([  24.66569597,   24.66569597,   24.66569597,  221.99126376,\n",
       "         443.98252752,  937.29644699, 1257.95049465, 1282.61619062,\n",
       "        1183.95340673, 1430.61036646, 1085.29062283,  616.64239934,\n",
       "         517.97961544,  246.65695974,  147.99417584,   73.99708792,\n",
       "          24.66569597]),\n",
       " array([0.02852714, 0.0286319 , 0.02873666, 0.02884142, 0.02894618,\n",
       "        0.02905094, 0.0291557 , 0.02926046, 0.02936522, 0.02946998,\n",
       "        0.02957474, 0.0296795 , 0.02978426, 0.02988902, 0.02999378,\n",
       "        0.03009854, 0.0302033 , 0.03030806]),\n",
       " <BarContainer object of 17 artists>)"
      ]
     },
     "execution_count": 70,
     "metadata": {},
     "output_type": "execute_result"
    },
    {
     "data": {
      "image/png": "[encoded data removed]",
      "text/plain": [
       "<Figure size 640x480 with 1 Axes>"
      ]
     },
     "metadata": {},
     "output_type": "display_data"
    }
   ],
   "source": [
    "plt.hist(drifted_event[2], bins='auto', density=True)"
   ]
  },
  {
   "cell_type": "code",
   "execution_count": 71,
   "metadata": {},
   "outputs": [],
   "source": [
    "# %%timeit\n",
    "# Precompute repeated values\n",
    "minvals = DriftedEvt.min()\n",
    "maxvals = DriftedEvt.max()\n",
    "\n",
    "nsigma_extend = 3\n",
    "PSFmean_extend = nsigma_extend * det.PSFstd + det.PSFmean\n",
    "x_range = (minvals['x'] - PSFmean_extend, maxvals['x'] + PSFmean_extend)\n",
    "y_range = (minvals['y'] - PSFmean_extend, maxvals['y'] + PSFmean_extend)\n",
    "dt_range = (minvals['dt'] - nsigma_extend * det.gain_sigma_t, maxvals['dt'] + nsigma_extend * det.gain_sigma_t)\n",
    "\n",
    "# Calculate ReadoutGrid\n",
    "ReadoutGrid = np.mgrid[\n",
    "            np.floor(x_range[0] / det.pitch_x) * det.pitch_x:\n",
    "            np.ceil(x_range[1] / det.pitch_x) * det.pitch_x:\n",
    "            det.pitch_x,\n",
    "            np.floor(y_range[0] / det.pitch_y) * det.pitch_y:\n",
    "            np.ceil(y_range[1] / det.pitch_y) * det.pitch_y:\n",
    "            det.pitch_y,\n",
    "            np.floor(dt_range[0] / det.samplerate) * det.samplerate:\n",
    "            np.ceil(dt_range[1] / det.samplerate) * det.samplerate:\n",
    "            det.samplerate\n",
    "            ]\n",
    "\n",
    "pos = np.stack(ReadoutGrid, axis=3)\n",
    "ReadoutEvt = None\n",
    "for i in DriftedEvt.index:\n",
    "    thisGain = np.random.exponential(scale=det.gain_mean) # bikin gain banyak dulu baru di loop\n",
    "    rv = multivariate_normal([DriftedEvt.iloc[i]['x'], DriftedEvt.iloc[i]['y'], \n",
    "        DriftedEvt.iloc[i]['dt']], np.diag([det.PSFstd, det.PSFstd,det.gain_sigma_t]))\n",
    "    if ReadoutEvt is None:\n",
    "        #The factor pitch_x*pitch_y*sample_rate converts from probability density \n",
    "        #to 'normalised' probability\n",
    "        ReadoutEvt = rv.pdf(pos)*det.pitch_x*det.pitch_y*det.samplerate*thisGain\n",
    "    else:\n",
    "        ReadoutEvt += rv.pdf(pos)*det.pitch_x*det.pitch_y*det.samplerate*thisGain\n",
    "\n",
    "#Only record readout elements where Nel > thresh\n",
    "themask = ReadoutEvt >= thresh\n",
    "if np.sum(themask) == 0:\n",
    "    print('No channels above threshold!')\n",
    "    ReadoutEvt = pd.DataFrame(columns=['x', 'y', 'dt', 'Nel'])\n",
    "try:\n",
    "    ReadoutEvt = pd.DataFrame({'x': ReadoutGrid[0][themask].flatten(), 'y': ReadoutGrid[1][themask].flatten(), \n",
    "        'dt': ReadoutGrid[2][themask].flatten(), 'Nel': ReadoutEvt[themask]})\n",
    "except:\n",
    "    print(f'DriftedEvt: {DriftedEvt}')\n",
    "    print(f'themask: {themask}\\nReadoutGrid[0]: {ReadoutGrid[0]}\\nReadoutEvt: {ReadoutEvt}\\nReadoutGrid: {ReadoutGrid}')\n",
    "    print(f'ReadoutGrid.shape: {ReadoutGrid.shape}, ReadoutEvt.shape: {ReadoutEvt.shape}, themask.shape = {themask.shape}')\n",
    "    raise"
   ]
  }
 ],
 "metadata": {
  "kernelspec": {
   "display_name": "frt-development",
   "language": "python",
   "name": "python3"
  },
  "language_info": {
   "codemirror_mode": {
    "name": "ipython",
    "version": 3
   },
   "file_extension": ".py",
   "mimetype": "text/x-python",
   "name": "python",
   "nbconvert_exporter": "python",
   "pygments_lexer": "ipython3",
   "version": "3.11.4"
  },
  "orig_nbformat": 4
 },
 "nbformat": 4,
 "nbformat_minor": 2
}
