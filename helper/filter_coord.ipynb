{
 "cells": [
  {
   "cell_type": "code",
   "execution_count": 1,
   "metadata": {},
   "outputs": [],
   "source": [
    "import numpy as np"
   ]
  },
  {
   "cell_type": "code",
   "execution_count": 11,
   "metadata": {},
   "outputs": [],
   "source": [
    "def filterCoord_1(x, y, z, val, minvals, maxvals):\n",
    "    filtered_x = []\n",
    "    filtered_y = []\n",
    "    filtered_z = []\n",
    "    filtered_val = []\n",
    "    \n",
    "    for x_val, y_val, z_val, v in zip(x, y, z, val):\n",
    "        if minvals[0] <= x_val <= maxvals[0] and minvals[1] <= y_val <= maxvals[1] and minvals[2] <= z_val:\n",
    "            filtered_x.append(x_val)\n",
    "            filtered_y.append(y_val)\n",
    "            filtered_z.append(z_val)\n",
    "            filtered_val.append(v)\n",
    "    return np.array([filtered_x, filtered_y, filtered_z, filtered_val])\n",
    "\n",
    "import numpy as np\n",
    "\n",
    "def filterCoord(x, y, z, val, minvals, maxvals):\n",
    "    # Convert input lists to NumPy arrays\n",
    "    x = np.array(x)\n",
    "    y = np.array(y)\n",
    "    z = np.array(z)\n",
    "    val = np.array(val)\n",
    "\n",
    "    # Define masks for filtering\n",
    "    x_mask = (minvals[0] <= x) & (x <= maxvals[0])\n",
    "    y_mask = (minvals[1] <= y) & (y <= maxvals[1])\n",
    "    z_mask = (minvals[2] <= z)\n",
    "\n",
    "    # Combine the masks to get the final filtering mask\n",
    "    final_mask = x_mask & y_mask & z_mask\n",
    "\n",
    "    # Use the filtering mask to get the filtered arrays\n",
    "    filtered_x = x[final_mask]\n",
    "    filtered_y = y[final_mask]\n",
    "    filtered_z = z[final_mask]\n",
    "    filtered_val = val[final_mask]\n",
    "    return np.array([filtered_x, filtered_y, filtered_z, filtered_val])\n"
   ]
  },
  {
   "cell_type": "code",
   "execution_count": 16,
   "metadata": {},
   "outputs": [
    {
     "name": "stdout",
     "output_type": "stream",
     "text": [
      "[6 2 3] [15 20 15]\n",
      "(15,)\n"
     ]
    }
   ],
   "source": [
    "N = 100\n",
    "DriftedEvt = np.array( [[2,2] for i in range(N)] + [1,2,3], [1,3,3], [1,3,3], [1,3,3], [5,5,5], [10,10,10],  [10,10,10], [2,4,6], [2,6,5], [10,10,10],  [10,10,10],  [10,10,10], [10,20,14], [2,20,15], [2,10,9]])\n",
    "\n",
    "DriftedEvtGrid = np.stack(DriftedEvt, axis=-1)\n",
    "minvals = np.array([DriftedEvtGrid[0].min()+5, DriftedEvtGrid[1].min(), DriftedEvtGrid[2].min()])\n",
    "maxvals = np.array([DriftedEvtGrid[0].max()+5, DriftedEvtGrid[1].max(), DriftedEvtGrid[2].max()])\n",
    "\n",
    "print(minvals, maxvals)\n"
   ]
  },
  {
   "cell_type": "code",
   "execution_count": 22,
   "metadata": {},
   "outputs": [
    {
     "name": "stdout",
     "output_type": "stream",
     "text": [
      "[[ 1  1  1  1  5 10 10  2  2 10 10 10 10  2  2]\n",
      " [ 2  3  3  3  5 10 10  4  6 10 10 10 20 20 10]\n",
      " [ 3  3  3  3  5 10 10  6  5 10 10 10 14 15  9]]\n",
      "9.11 µs ± 97.5 ns per loop (mean ± std. dev. of 7 runs, 100,000 loops each)\n",
      "6.9 µs ± 42.4 ns per loop (mean ± std. dev. of 7 runs, 100,000 loops each)\n",
      "[[10 10 10 10 10 10]\n",
      " [10 10 10 10 10 20]\n",
      " [10 10 10 10 10 14]\n",
      " [20 20 20 20 20 28]]\n"
     ]
    }
   ],
   "source": [
    "\n",
    "x, y, z = DriftedEvtGrid\n",
    "print(DriftedEvtGrid)\n",
    "val = 2*z\n",
    "\n",
    "%timeit filtered_coord = filterCoord(x, y, z, val, minvals, maxvals )\n",
    "%timeit filtered_coord = filterCoord_1(x, y, z, val, minvals, maxvals )\n",
    "print(filtered_coord)"
   ]
  }
 ],
 "metadata": {
  "kernelspec": {
   "display_name": "frt-development",
   "language": "python",
   "name": "python3"
  },
  "language_info": {
   "codemirror_mode": {
    "name": "ipython",
    "version": 3
   },
   "file_extension": ".py",
   "mimetype": "text/x-python",
   "name": "python",
   "nbconvert_exporter": "python",
   "pygments_lexer": "ipython3",
   "version": "3.11.4"
  },
  "orig_nbformat": 4
 },
 "nbformat": 4,
 "nbformat_minor": 2
}
