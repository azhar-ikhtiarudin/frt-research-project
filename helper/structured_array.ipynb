{
 "cells": [
  {
   "cell_type": "code",
   "execution_count": 1,
   "metadata": {},
   "outputs": [
    {
     "name": "stdout",
     "output_type": "stream",
     "text": [
      "(1., 10., 0.1)\n",
      "3.0\n",
      "50.0\n",
      "[0.2 0.3 0.4]\n"
     ]
    }
   ],
   "source": [
    "import numpy as np\n",
    "\n",
    "# Define the data type for the structured array\n",
    "dtype = np.dtype([('x', float), ('y', float), ('z', float)])\n",
    "\n",
    "# Create an empty structured array with a specified shape\n",
    "num_points = 5\n",
    "structured_array = np.empty(num_points, dtype=dtype)\n",
    "\n",
    "# Fill in the structured array with data\n",
    "structured_array['x'] = [1.0, 2.0, 3.0, 4.0, 5.0]\n",
    "structured_array['y'] = [10.0, 20.0, 30.0, 40.0, 50.0]\n",
    "structured_array['z'] = [0.1, 0.2, 0.3, 0.4, 0.5]\n",
    "\n",
    "# Accessing individual elements\n",
    "print(structured_array[0])  # Output: (1.0, 10.0, 0.1)\n",
    "print(structured_array['x'][2])  # Output: 3.0\n",
    "print(structured_array['y'][4])  # Output: 50.0\n",
    "print(structured_array['z'][1:4])  # Output: [0.2, 0.3, 0.4]\n"
   ]
  },
  {
   "cell_type": "code",
   "execution_count": 2,
   "metadata": {},
   "outputs": [
    {
     "name": "stdout",
     "output_type": "stream",
     "text": [
      "[1. 2. 3. 4. 5.]\n"
     ]
    }
   ],
   "source": [
    "print(structured_array['x'])"
   ]
  },
  {
   "cell_type": "code",
   "execution_count": null,
   "metadata": {},
   "outputs": [],
   "source": [
    "primary_type = np.dtype([('x', float), ('y', float), ('z', float)])\n"
   ]
  }
 ],
 "metadata": {
  "kernelspec": {
   "display_name": "frt-development",
   "language": "python",
   "name": "python3"
  },
  "language_info": {
   "codemirror_mode": {
    "name": "ipython",
    "version": 3
   },
   "file_extension": ".py",
   "mimetype": "text/x-python",
   "name": "python",
   "nbconvert_exporter": "python",
   "pygments_lexer": "ipython3",
   "version": "3.11.4"
  },
  "orig_nbformat": 4
 },
 "nbformat": 4,
 "nbformat_minor": 2
}
